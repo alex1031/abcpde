{
 "cells": [
  {
   "cell_type": "code",
   "execution_count": 2,
   "id": "05292520",
   "metadata": {},
   "outputs": [],
   "source": [
    "import numpy as np\n",
    "import os\n",
    "from temp_common.distances import *\n",
    "from scipy.integrate import odeint\n",
    "import time\n",
    "import torch\n",
    "from temp_torchdiffeq_mod._impl import odeint"
   ]
  },
  {
   "cell_type": "code",
   "execution_count": 12,
   "id": "d06e0af9",
   "metadata": {},
   "outputs": [],
   "source": [
    "def simulation_uniform(observed_prey: np.ndarray, observed_predator: np.ndarray, niter: int=10000, batch_size: int=10000) -> np.ndarray:\n",
    "    # Initial conditions\n",
    "    results = []\n",
    "    sim_time = []\n",
    "    num_batches = niter//batch_size\n",
    "\n",
    "    # Define ODE system\n",
    "    def dUdt(t, state, theta_a, theta_b):\n",
    "        x, y = state[..., 0], state[..., 1]\n",
    "        dxdt = theta_a*x - x*y\n",
    "        dydt = theta_b*x*y - y\n",
    "        return torch.stack((dxdt, dydt), dim=-1)\n",
    "\n",
    "    for i in range(num_batches):\n",
    "        theta_a, theta_b = np.random.RandomState().uniform(-10, 10, batch_size), np.random.RandomState().uniform(-10, 10, batch_size)\n",
    "        theta_a, theta_b = torch.from_numpy(theta_a).cuda(), torch.from_numpy(theta_b).cuda() \n",
    "        sim_start = time.time()\n",
    "        # Within each iteration: generate sample and then calculate distance\n",
    "        ic = torch.full((batch_size, 2), 0.5).cuda() # initial conditions\n",
    "        t = torch.linspace(0, 10, 100).cuda()\n",
    "        sim_sol = odeint(lambda t, state: dUdt(t, state, theta_a, theta_b), ic, t, method='rk4')\n",
    "        prey_sol = np.nan_to_num(np.array(sim_sol.cpu()[:, :, 0]))\n",
    "        predator_sol = np.nan_to_num(np.array(sim_sol.cpu()[:, :, 1]))\n",
    "        sim_end = time.time()\n",
    "        print(f\"Time taken to simulate {batch_size}: {sim_end - sim_start}\")\n",
    "\n",
    "        wass_dist_start = time.time()\n",
    "        wasserstein_prey = wasserstein_distance(prey_sol, observed_prey)\n",
    "        wasserstein_predator = wasserstein_distance(predator_sol, observed_predator)\n",
    "        wasserstein = (wasserstein_prey + wasserstein_predator)/2\n",
    "        wass_dist_end = time.time()\n",
    "        wass_dist_sim = wass_dist_end - wass_dist_start\n",
    "        \n",
    "        energy_dist_start = time.time()\n",
    "        energy_prey = energy_dist(prey_sol, observed_prey)\n",
    "        energy_predator = energy_dist(predator_sol, observed_predator)\n",
    "        energy = (energy_prey + energy_predator)/2\n",
    "        energy_dist_end = time.time()\n",
    "        energy_dist_sim = energy_dist_end - energy_dist_start\n",
    "        \n",
    "        mmd_start = time.time()\n",
    "        mmd_prey = maximum_mean_discrepancy(prey_sol, observed_prey)\n",
    "        mmd_predator = maximum_mean_discrepancy(predator_sol, observed_predator)\n",
    "        mmd = (mmd_prey + mmd_predator)/2\n",
    "        mmd_end = time.time()\n",
    "        mmd_sim = mmd_end - mmd_start\n",
    "        \n",
    "        cvmd_start = time.time()\n",
    "        cvmd_prey = cramer_von_mises(prey_sol, observed_prey)\n",
    "        cvmd_predator = cramer_von_mises(predator_sol, observed_predator)\n",
    "        cramer = (cvmd_prey + cvmd_predator)/2\n",
    "        cvmd_end = time.time()\n",
    "        cvmd_sim = cvmd_end - cvmd_start\n",
    "        \n",
    "        kld_start = time.time()\n",
    "        kld_prey = kullback_leibler_divergence(prey_sol, observed_prey)\n",
    "        kld_predator = kullback_leibler_divergence(predator_sol, observed_predator)\n",
    "        kld = (kld_prey + kld_predator)/2\n",
    "        kld_end = time.time()\n",
    "        kld_sim = kld_end - kld_start\n",
    "        \n",
    "        dist_sim = np.array([wass_dist_sim, energy_dist_sim, mmd_sim, cvmd_sim, kld_sim])\n",
    "        batch_results = np.column_stack((theta_a.cpu().T, theta_b.cpu().T, wasserstein, energy.T, mmd.T, cramer, kld.T))\n",
    "        results.append(batch_results)\n",
    "        sim_time.append(dist_sim)\n",
    "    \n",
    "    return np.vstack(results), sim_time\n",
    "\n",
    "def main(observed_path: str) -> None:\n",
    "    \n",
    "    observed_data = np.load(observed_path)\n",
    "    observed_prey = np.tile(observed_data[:,0], (10000, 1)).T\n",
    "    observed_predator = np.tile(observed_data[:,1], (10000, 1)).T\n",
    "    start_time = time.time()\n",
    "    results, sim_time = simulation_uniform(observed_prey, observed_predator)\n",
    "    end_time = time.time()\n",
    "    print(\"Run time:\", end_time - start_time)\n",
    "    return sim_time\n",
    "    "
   ]
  },
  {
   "cell_type": "code",
   "execution_count": 13,
   "id": "29a6c773",
   "metadata": {},
   "outputs": [
    {
     "name": "stdout",
     "output_type": "stream",
     "text": [
      "Time taken to simulate 10000: 0.29964399337768555\n",
      "Run time: 12.010372877120972\n"
     ]
    },
    {
     "data": {
      "text/plain": [
       "[array([0.04533505, 2.73432398, 6.19708276, 0.11249042, 2.61952853])]"
      ]
     },
     "execution_count": 13,
     "metadata": {},
     "output_type": "execute_result"
    }
   ],
   "source": [
    "observed_path = \"observed_data/n0_no_smoothing/n0_no_smoothing.npy\"\n",
    "main(observed_path)"
   ]
  },
  {
   "cell_type": "code",
   "execution_count": 7,
   "id": "d2e1b612-9ba8-4f56-97a9-59082fb35890",
   "metadata": {},
   "outputs": [
    {
     "data": {
      "text/plain": [
       "array([[ 13.16621733, 478.24327612, 719.28191519,  31.93885684,\n",
       "        428.05050564]])"
      ]
     },
     "execution_count": 7,
     "metadata": {},
     "output_type": "execute_result"
    }
   ],
   "source": [
    "run = \"runs/n0_no_smoothing/run5_sim_time.npy\"\n",
    "np.load(run)"
   ]
  },
  {
   "cell_type": "code",
   "execution_count": 9,
   "id": "d7c28018-e66c-47ee-972e-5a591c27a7fb",
   "metadata": {},
   "outputs": [],
   "source": [
    "sim_times = []\n",
    "\n",
    "for i in range(5):\n",
    "    sim_time_path = f\"runs/n0_no_smoothing/run{i+1}_sim_time.npy\"\n",
    "    sim_time = np.load(sim_time_path)\n",
    "    sim_times.append(sim_time)"
   ]
  },
  {
   "cell_type": "code",
   "execution_count": 15,
   "id": "3e00ec39-3677-49a9-8cdc-27b45df8ead7",
   "metadata": {},
   "outputs": [
    {
     "data": {
      "text/plain": [
       "13.066454362869262"
      ]
     },
     "execution_count": 15,
     "metadata": {},
     "output_type": "execute_result"
    }
   ],
   "source": [
    "np.mean(sim_times, axis=0)[0][0]"
   ]
  },
  {
   "cell_type": "code",
   "execution_count": 13,
   "id": "7236cf5d-e052-48fd-8b09-d1038f0cc3a7",
   "metadata": {},
   "outputs": [
    {
     "data": {
      "text/plain": [
       "[array([[ 13.18582726, 477.21178126, 715.62604427,  31.47921538,\n",
       "         426.16887164]]),\n",
       " array([[ 13.17971253, 478.060987  , 719.23366666,  31.9054091 ,\n",
       "         428.18712878]]),\n",
       " array([[ 12.96045995, 477.71956801, 712.38009024,  31.11062717,\n",
       "         427.29100108]]),\n",
       " array([[ 12.84005475, 477.89115882, 718.38460803,  31.75752473,\n",
       "         426.70319557]]),\n",
       " array([[ 13.16621733, 478.24327612, 719.28191519,  31.93885684,\n",
       "         428.05050564]])]"
      ]
     },
     "execution_count": 13,
     "metadata": {},
     "output_type": "execute_result"
    }
   ],
   "source": [
    "sim_times"
   ]
  }
 ],
 "metadata": {
  "kernelspec": {
   "display_name": "Python 3 (ipykernel)",
   "language": "python",
   "name": "python3"
  },
  "language_info": {
   "codemirror_mode": {
    "name": "ipython",
    "version": 3
   },
   "file_extension": ".py",
   "mimetype": "text/x-python",
   "name": "python",
   "nbconvert_exporter": "python",
   "pygments_lexer": "ipython3",
   "version": "3.10.13"
  }
 },
 "nbformat": 4,
 "nbformat_minor": 5
}
