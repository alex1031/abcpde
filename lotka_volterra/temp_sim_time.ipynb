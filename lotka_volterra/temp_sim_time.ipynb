{
 "cells": [
  {
   "cell_type": "code",
   "execution_count": 1,
   "id": "05292520",
   "metadata": {},
   "outputs": [],
   "source": [
    "import numpy as np\n",
    "import os\n",
    "from temp_common.distances import *\n",
    "from scipy.integrate import odeint\n",
    "import time\n",
    "# import torch\n",
    "# from temp_torchdiffeq_mod._impl import odeint"
   ]
  },
  {
   "cell_type": "code",
   "execution_count": 2,
   "id": "d06e0af9",
   "metadata": {},
   "outputs": [],
   "source": [
    "def simulation_uniform(observed_prey: np.ndarray, observed_predator: np.ndarray, niter: int=500, batch_size: int=500) -> np.ndarray:\n",
    "    # Initial conditions\n",
    "    results = []\n",
    "    sim_time = []\n",
    "    num_batches = niter//batch_size\n",
    "\n",
    "    # Define ODE system\n",
    "    def dUdt(state, t, theta_a, theta_b):\n",
    "        \"\"\" Lotka-Volterra-like equations for prey and predator populations. \"\"\"\n",
    "        x, y = state\n",
    "        dxdt = theta_a * x - x * y\n",
    "        dydt = theta_b * x * y - y\n",
    "        return [dxdt, dydt]\n",
    "\n",
    "    for i in range(num_batches):\n",
    "        theta_a, theta_b = np.random.RandomState().uniform(-10, 10, batch_size), np.random.RandomState().uniform(-10, 10, batch_size)\n",
    "#         theta_a, theta_b = torch.from_numpy(theta_a).cuda(), torch.from_numpy(theta_b).cuda() \n",
    "        sim_start = time.time()\n",
    "        # Within each iteration: generate sample and then calculate distance\n",
    "        ic = np.full((batch_size, 2), 0.5)\n",
    "        t = np.linspace(0, 10, 100)\n",
    "        sim_sol = np.array([odeint(dUdt, ic[j], t, args=(theta_a[j], theta_b[j])) for j in range(batch_size)])\n",
    "        prey_sol = np.nan_to_num(np.array(sim_sol[:, :, 0]))\n",
    "        predator_sol = np.nan_to_num(np.array(sim_sol[:, :, 1]))\n",
    "        sim_end = time.time()\n",
    "        print(f\"Time taken to simulate {batch_size}: {sim_end - sim_start}\")\n",
    "\n",
    "        wass_dist_start = time.time()\n",
    "        wasserstein_prey = wasserstein_distance(prey_sol.T, observed_prey)\n",
    "        wasserstein_predator = wasserstein_distance(predator_sol.T, observed_predator)\n",
    "        wasserstein = (wasserstein_prey + wasserstein_predator)/2\n",
    "        wass_dist_end = time.time()\n",
    "        wass_dist_sim = wass_dist_end - wass_dist_start\n",
    "        \n",
    "        energy_dist_start = time.time()\n",
    "        energy_prey = energy_dist(prey_sol, observed_prey)\n",
    "        energy_predator = energy_dist(predator_sol, observed_predator)\n",
    "        energy = (energy_prey + energy_predator)/2\n",
    "        energy_dist_end = time.time()\n",
    "        energy_dist_sim = energy_dist_end - energy_dist_start\n",
    "        \n",
    "        mmd_start = time.time()\n",
    "        mmd_prey = maximum_mean_discrepancy(prey_sol, observed_prey)\n",
    "        mmd_predator = maximum_mean_discrepancy(predator_sol, observed_predator)\n",
    "        mmd = (mmd_prey + mmd_predator)/2\n",
    "        mmd_end = time.time()\n",
    "        mmd_sim = mmd_end - mmd_start\n",
    "        \n",
    "        cvmd_start = time.time()\n",
    "        cvmd_prey = cramer_von_mises(prey_sol, observed_prey)\n",
    "        cvmd_predator = cramer_von_mises(predator_sol, observed_predator)\n",
    "        print(cvmd_prey + cvmd_predator)\n",
    "        cramer = (cvmd_prey + cvmd_predator)/2\n",
    "        cvmd_end = time.time()\n",
    "        cvmd_sim = cvmd_end - cvmd_start\n",
    "        \n",
    "        kld_start = time.time()\n",
    "        kld_prey = kullback_leibler_divergence(prey_sol, observed_prey)\n",
    "        kld_predator = kullback_leibler_divergence(predator_sol, observed_predator)\n",
    "        kld = (kld_prey + kld_predator)/2\n",
    "        kld_end = time.time()\n",
    "        kld_sim = kld_end - kld_start\n",
    "        \n",
    "        dist_sim = np.array([wass_dist_sim, energy_dist_sim, mmd_sim, cvmd_sim, kld_sim])\n",
    "        batch_results = np.column_stack((theta_a.T, theta_b.T, wasserstein, energy.T, mmd.T, cramer, kld.T))\n",
    "        results.append(batch_results)\n",
    "        sim_time.append(dist_sim)\n",
    "    \n",
    "    return np.vstack(results), sim_time\n",
    "\n",
    "def main(observed_path: str) -> None:\n",
    "    \n",
    "    observed_data = np.load(observed_path)\n",
    "    observed_prey = np.tile(observed_data[:,0], (500, 1)).T\n",
    "    observed_predator = np.tile(observed_data[:,1], (500, 1)).T\n",
    "    start_time = time.time()\n",
    "    results, sim_time = simulation_uniform(observed_prey, observed_predator)\n",
    "    end_time = time.time()\n",
    "    print(\"Run time:\", end_time - start_time)\n",
    "    return sim_time\n",
    "    "
   ]
  },
  {
   "cell_type": "code",
   "execution_count": 3,
   "id": "29a6c773",
   "metadata": {},
   "outputs": [
    {
     "name": "stdout",
     "output_type": "stream",
     "text": [
      "Time taken to simulate 500: 2.136162281036377\n"
     ]
    },
    {
     "ename": "ValueError",
     "evalue": "all the input array dimensions for the concatenation axis must match exactly, but along dimension 1, the array at index 0 has size 100 and the array at index 1 has size 500",
     "output_type": "error",
     "traceback": [
      "\u001b[1;31m---------------------------------------------------------------------------\u001b[0m",
      "\u001b[1;31mValueError\u001b[0m                                Traceback (most recent call last)",
      "Cell \u001b[1;32mIn[3], line 2\u001b[0m\n\u001b[0;32m      1\u001b[0m observed_path \u001b[38;5;241m=\u001b[39m \u001b[38;5;124m\"\u001b[39m\u001b[38;5;124mobserved_data/n0_no_smoothing/n0_no_smoothing.npy\u001b[39m\u001b[38;5;124m\"\u001b[39m\n\u001b[1;32m----> 2\u001b[0m \u001b[43mmain\u001b[49m\u001b[43m(\u001b[49m\u001b[43mobserved_path\u001b[49m\u001b[43m)\u001b[49m\n",
      "Cell \u001b[1;32mIn[2], line 77\u001b[0m, in \u001b[0;36mmain\u001b[1;34m(observed_path)\u001b[0m\n\u001b[0;32m     75\u001b[0m observed_predator \u001b[38;5;241m=\u001b[39m np\u001b[38;5;241m.\u001b[39mtile(observed_data[:,\u001b[38;5;241m1\u001b[39m], (\u001b[38;5;241m500\u001b[39m, \u001b[38;5;241m1\u001b[39m))\u001b[38;5;241m.\u001b[39mT\n\u001b[0;32m     76\u001b[0m start_time \u001b[38;5;241m=\u001b[39m time\u001b[38;5;241m.\u001b[39mtime()\n\u001b[1;32m---> 77\u001b[0m results, sim_time \u001b[38;5;241m=\u001b[39m \u001b[43msimulation_uniform\u001b[49m\u001b[43m(\u001b[49m\u001b[43mobserved_prey\u001b[49m\u001b[43m,\u001b[49m\u001b[43m \u001b[49m\u001b[43mobserved_predator\u001b[49m\u001b[43m)\u001b[49m\n\u001b[0;32m     78\u001b[0m end_time \u001b[38;5;241m=\u001b[39m time\u001b[38;5;241m.\u001b[39mtime()\n\u001b[0;32m     79\u001b[0m \u001b[38;5;28mprint\u001b[39m(\u001b[38;5;124m\"\u001b[39m\u001b[38;5;124mRun time:\u001b[39m\u001b[38;5;124m\"\u001b[39m, end_time \u001b[38;5;241m-\u001b[39m start_time)\n",
      "Cell \u001b[1;32mIn[2], line 50\u001b[0m, in \u001b[0;36msimulation_uniform\u001b[1;34m(observed_prey, observed_predator, niter, batch_size)\u001b[0m\n\u001b[0;32m     47\u001b[0m mmd_sim \u001b[38;5;241m=\u001b[39m mmd_end \u001b[38;5;241m-\u001b[39m mmd_start\n\u001b[0;32m     49\u001b[0m cvmd_start \u001b[38;5;241m=\u001b[39m time\u001b[38;5;241m.\u001b[39mtime()\n\u001b[1;32m---> 50\u001b[0m cvmd_prey \u001b[38;5;241m=\u001b[39m \u001b[43mcramer_von_mises\u001b[49m\u001b[43m(\u001b[49m\u001b[43mprey_sol\u001b[49m\u001b[43m,\u001b[49m\u001b[43m \u001b[49m\u001b[43mobserved_prey\u001b[49m\u001b[43m)\u001b[49m\n\u001b[0;32m     51\u001b[0m cvmd_predator \u001b[38;5;241m=\u001b[39m cramer_von_mises(predator_sol, observed_predator)\n\u001b[0;32m     52\u001b[0m \u001b[38;5;28mprint\u001b[39m(cvmd_prey \u001b[38;5;241m+\u001b[39m cvmd_predator)\n",
      "File \u001b[1;32m~\\Desktop\\Uni\\2024-25\\honours\\abcpde\\lotka_volterra\\temp_common\\distances.py:46\u001b[0m, in \u001b[0;36mcramer_von_mises\u001b[1;34m(simulated_sample, observed_sample)\u001b[0m\n\u001b[0;32m     44\u001b[0m nrow \u001b[38;5;241m=\u001b[39m simulated_sample\u001b[38;5;241m.\u001b[39mshape[\u001b[38;5;241m0\u001b[39m]\n\u001b[0;32m     45\u001b[0m ncol \u001b[38;5;241m=\u001b[39m simulated_sample\u001b[38;5;241m.\u001b[39mshape[\u001b[38;5;241m1\u001b[39m]\n\u001b[1;32m---> 46\u001b[0m combined \u001b[38;5;241m=\u001b[39m \u001b[43mnp\u001b[49m\u001b[38;5;241;43m.\u001b[39;49m\u001b[43mconcatenate\u001b[49m\u001b[43m(\u001b[49m\u001b[43m(\u001b[49m\u001b[43msimulated_sample\u001b[49m\u001b[43m,\u001b[49m\u001b[43m \u001b[49m\u001b[43mobserved_sample\u001b[49m\u001b[43m)\u001b[49m\u001b[43m)\u001b[49m\n\u001b[0;32m     47\u001b[0m \u001b[38;5;66;03m# Find corresponding ranks in h associated with simulated/observed\u001b[39;00m\n\u001b[0;32m     48\u001b[0m combined_rank \u001b[38;5;241m=\u001b[39m np\u001b[38;5;241m.\u001b[39margsort(combined, axis\u001b[38;5;241m=\u001b[39m\u001b[38;5;241m0\u001b[39m)\u001b[38;5;241m+\u001b[39m\u001b[38;5;241m1\u001b[39m\n",
      "File \u001b[1;32m<__array_function__ internals>:180\u001b[0m, in \u001b[0;36mconcatenate\u001b[1;34m(*args, **kwargs)\u001b[0m\n",
      "\u001b[1;31mValueError\u001b[0m: all the input array dimensions for the concatenation axis must match exactly, but along dimension 1, the array at index 0 has size 100 and the array at index 1 has size 500"
     ]
    }
   ],
   "source": [
    "observed_path = \"observed_data/n0_no_smoothing/n0_no_smoothing.npy\"\n",
    "main(observed_path)"
   ]
  },
  {
   "cell_type": "code",
   "execution_count": null,
   "id": "40edee59",
   "metadata": {},
   "outputs": [],
   "source": [
    "x = []\n",
    "a = np.array([0,1,2])\n",
    "b = np.array([3, 4, 5])\n",
    "x.append(a)\n",
    "x.append(b)\n",
    "x"
   ]
  },
  {
   "cell_type": "code",
   "execution_count": null,
   "id": "34b3338c",
   "metadata": {},
   "outputs": [],
   "source": [
    "time.time() - time.time()"
   ]
  }
 ],
 "metadata": {
  "kernelspec": {
   "display_name": "Python 3 (ipykernel)",
   "language": "python",
   "name": "python3"
  },
  "language_info": {
   "codemirror_mode": {
    "name": "ipython",
    "version": 3
   },
   "file_extension": ".py",
   "mimetype": "text/x-python",
   "name": "python",
   "nbconvert_exporter": "python",
   "pygments_lexer": "ipython3",
   "version": "3.10.9"
  }
 },
 "nbformat": 4,
 "nbformat_minor": 5
}
