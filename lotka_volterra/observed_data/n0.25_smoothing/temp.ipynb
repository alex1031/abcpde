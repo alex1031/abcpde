{
 "cells": [
  {
   "cell_type": "code",
   "execution_count": 1,
   "metadata": {},
   "outputs": [],
   "source": [
    "import numpy as np\n",
    "from scipy.integrate import odeint\n",
    "from typing import Tuple\n",
    "from scipy.interpolate import splrep, BSpline\n",
    "\n",
    "def generate_sample(params: Tuple[float, float, float], tspan: np.ndarray) -> np.ndarray:\n",
    "\n",
    "    def dUdt(t, U, a, b):\n",
    "        x, y = U\n",
    "\n",
    "        return [a*x - x*y, b*x*y - y] \n",
    "\n",
    "    alpha, beta, sigma = params[0], params[1], params[2]\n",
    "\n",
    "    # Define initial conditions\n",
    "    x0, y0 = 0.5, 0.5\n",
    "    S0 = (x0, y0)\n",
    "\n",
    "    # Solve the equation with given initial conditions\n",
    "    sol_dUdt = odeint(dUdt, y0=S0, t=tspan, args=(alpha, beta), tfirst=True)\n",
    "\n",
    "    # Generate noise\n",
    "    noise = np.random.normal(0, sigma, (len(tspan), 2))\n",
    "    sol_dUdt = sol_dUdt + noise\n",
    "\n",
    "    return sol_dUdt\n",
    "\n",
    "def fit_spline(tspan: np.ndarray, data: np.ndarray, s: int=270) -> np.ndarray:\n",
    "    spline = splrep(tspan, data, s=s)\n",
    "    spline_data = BSpline(*spline)(tspan)\n",
    "\n",
    "    return spline_data"
   ]
  },
  {
   "cell_type": "code",
   "execution_count": 2,
   "metadata": {},
   "outputs": [],
   "source": [
    "tspan = np.linspace(0, 10, 100)\n",
    "res = generate_sample([1, 1, 0.25], tspan)\n",
    "prey = fit_spline(tspan, res[:,0])\n",
    "predator = fit_spline(tspan, res[:,1])\n",
    "res = np.column_stack((prey, predator))\n",
    "np.save(\"n0.25_smoothing.npy\", res)"
   ]
  },
  {
   "cell_type": "code",
   "execution_count": 4,
   "metadata": {},
   "outputs": [
    {
     "ename": "ModuleNotFoundError",
     "evalue": "No module named 'matplotlib'",
     "output_type": "error",
     "traceback": [
      "\u001b[1;31m---------------------------------------------------------------------------\u001b[0m",
      "\u001b[1;31mModuleNotFoundError\u001b[0m                       Traceback (most recent call last)",
      "Cell \u001b[1;32mIn[4], line 1\u001b[0m\n\u001b[1;32m----> 1\u001b[0m \u001b[38;5;28;01mimport\u001b[39;00m \u001b[38;5;21;01mmatplotlib\u001b[39;00m\u001b[38;5;21;01m.\u001b[39;00m\u001b[38;5;21;01mpyplot\u001b[39;00m \u001b[38;5;28;01mas\u001b[39;00m \u001b[38;5;21;01mplt\u001b[39;00m\n",
      "\u001b[1;31mModuleNotFoundError\u001b[0m: No module named 'matplotlib'"
     ]
    }
   ],
   "source": []
  }
 ],
 "metadata": {
  "kernelspec": {
   "display_name": "Python 3",
   "language": "python",
   "name": "python3"
  },
  "language_info": {
   "codemirror_mode": {
    "name": "ipython",
    "version": 3
   },
   "file_extension": ".py",
   "mimetype": "text/x-python",
   "name": "python",
   "nbconvert_exporter": "python",
   "pygments_lexer": "ipython3",
   "version": "3.8.8"
  }
 },
 "nbformat": 4,
 "nbformat_minor": 2
}
