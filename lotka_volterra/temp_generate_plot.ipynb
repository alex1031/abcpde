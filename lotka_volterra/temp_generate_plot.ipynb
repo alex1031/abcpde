{
 "cells": [
  {
   "cell_type": "code",
   "execution_count": 31,
   "id": "a6866fd5",
   "metadata": {},
   "outputs": [],
   "source": [
    "import numpy as np\n",
    "import matplotlib.pyplot as plt\n",
    "import pandas as pd\n",
    "import itertools"
   ]
  },
  {
   "cell_type": "code",
   "execution_count": 32,
   "id": "0ad1a943",
   "metadata": {},
   "outputs": [],
   "source": [
    "col = [\"M1\", \"M2\"]\n",
    "subcol = [\"mean\", \"median\"]\n",
    "row = [\"5%\", \"1%\"]\n",
    "subrow = [\"a\", \"b\"]\n",
    "model = [\"model1\", \"model2\"]\n",
    "val1 = np.array([[[0, 1], [2, 3]], [[4, 5], [6, 7]]])\n",
    "val2 = np.array([[[8, 9], [10, 11]], [[12, 13], [14, 15]]])"
   ]
  },
  {
   "cell_type": "code",
   "execution_count": 33,
   "id": "a5fe086a",
   "metadata": {},
   "outputs": [],
   "source": [
    "x = list(itertools.product(col, row, subrow, subcol))\n",
    "values = np.array([list(item) for item in x])\n",
    "distances = np.concatenate((val1, val2))\n",
    "distances = distances.flatten()\n",
    "\n",
    "rows = np.column_stack((values, distances))"
   ]
  },
  {
   "cell_type": "code",
   "execution_count": 39,
   "id": "e00050f0",
   "metadata": {},
   "outputs": [
    {
     "data": {
      "text/html": [
       "<div>\n",
       "<style scoped>\n",
       "    .dataframe tbody tr th:only-of-type {\n",
       "        vertical-align: middle;\n",
       "    }\n",
       "\n",
       "    .dataframe tbody tr th {\n",
       "        vertical-align: top;\n",
       "    }\n",
       "\n",
       "    .dataframe thead th {\n",
       "        text-align: right;\n",
       "    }\n",
       "</style>\n",
       "<table border=\"1\" class=\"dataframe\">\n",
       "  <thead>\n",
       "    <tr style=\"text-align: right;\">\n",
       "      <th></th>\n",
       "      <th>model</th>\n",
       "      <th>quantile</th>\n",
       "      <th>param</th>\n",
       "      <th>summary_statistic</th>\n",
       "      <th>distance</th>\n",
       "    </tr>\n",
       "  </thead>\n",
       "  <tbody>\n",
       "    <tr>\n",
       "      <th>0</th>\n",
       "      <td>M1</td>\n",
       "      <td>5%</td>\n",
       "      <td>a</td>\n",
       "      <td>mean</td>\n",
       "      <td>0</td>\n",
       "    </tr>\n",
       "    <tr>\n",
       "      <th>1</th>\n",
       "      <td>M1</td>\n",
       "      <td>5%</td>\n",
       "      <td>a</td>\n",
       "      <td>median</td>\n",
       "      <td>1</td>\n",
       "    </tr>\n",
       "    <tr>\n",
       "      <th>2</th>\n",
       "      <td>M1</td>\n",
       "      <td>5%</td>\n",
       "      <td>b</td>\n",
       "      <td>mean</td>\n",
       "      <td>2</td>\n",
       "    </tr>\n",
       "    <tr>\n",
       "      <th>3</th>\n",
       "      <td>M1</td>\n",
       "      <td>5%</td>\n",
       "      <td>b</td>\n",
       "      <td>median</td>\n",
       "      <td>3</td>\n",
       "    </tr>\n",
       "    <tr>\n",
       "      <th>4</th>\n",
       "      <td>M1</td>\n",
       "      <td>1%</td>\n",
       "      <td>a</td>\n",
       "      <td>mean</td>\n",
       "      <td>4</td>\n",
       "    </tr>\n",
       "    <tr>\n",
       "      <th>5</th>\n",
       "      <td>M1</td>\n",
       "      <td>1%</td>\n",
       "      <td>a</td>\n",
       "      <td>median</td>\n",
       "      <td>5</td>\n",
       "    </tr>\n",
       "    <tr>\n",
       "      <th>6</th>\n",
       "      <td>M1</td>\n",
       "      <td>1%</td>\n",
       "      <td>b</td>\n",
       "      <td>mean</td>\n",
       "      <td>6</td>\n",
       "    </tr>\n",
       "    <tr>\n",
       "      <th>7</th>\n",
       "      <td>M1</td>\n",
       "      <td>1%</td>\n",
       "      <td>b</td>\n",
       "      <td>median</td>\n",
       "      <td>7</td>\n",
       "    </tr>\n",
       "    <tr>\n",
       "      <th>8</th>\n",
       "      <td>M2</td>\n",
       "      <td>5%</td>\n",
       "      <td>a</td>\n",
       "      <td>mean</td>\n",
       "      <td>8</td>\n",
       "    </tr>\n",
       "    <tr>\n",
       "      <th>9</th>\n",
       "      <td>M2</td>\n",
       "      <td>5%</td>\n",
       "      <td>a</td>\n",
       "      <td>median</td>\n",
       "      <td>9</td>\n",
       "    </tr>\n",
       "    <tr>\n",
       "      <th>10</th>\n",
       "      <td>M2</td>\n",
       "      <td>5%</td>\n",
       "      <td>b</td>\n",
       "      <td>mean</td>\n",
       "      <td>10</td>\n",
       "    </tr>\n",
       "    <tr>\n",
       "      <th>11</th>\n",
       "      <td>M2</td>\n",
       "      <td>5%</td>\n",
       "      <td>b</td>\n",
       "      <td>median</td>\n",
       "      <td>11</td>\n",
       "    </tr>\n",
       "    <tr>\n",
       "      <th>12</th>\n",
       "      <td>M2</td>\n",
       "      <td>1%</td>\n",
       "      <td>a</td>\n",
       "      <td>mean</td>\n",
       "      <td>12</td>\n",
       "    </tr>\n",
       "    <tr>\n",
       "      <th>13</th>\n",
       "      <td>M2</td>\n",
       "      <td>1%</td>\n",
       "      <td>a</td>\n",
       "      <td>median</td>\n",
       "      <td>13</td>\n",
       "    </tr>\n",
       "    <tr>\n",
       "      <th>14</th>\n",
       "      <td>M2</td>\n",
       "      <td>1%</td>\n",
       "      <td>b</td>\n",
       "      <td>mean</td>\n",
       "      <td>14</td>\n",
       "    </tr>\n",
       "    <tr>\n",
       "      <th>15</th>\n",
       "      <td>M2</td>\n",
       "      <td>1%</td>\n",
       "      <td>b</td>\n",
       "      <td>median</td>\n",
       "      <td>15</td>\n",
       "    </tr>\n",
       "  </tbody>\n",
       "</table>\n",
       "</div>"
      ],
      "text/plain": [
       "   model quantile param summary_statistic distance\n",
       "0     M1       5%     a              mean        0\n",
       "1     M1       5%     a            median        1\n",
       "2     M1       5%     b              mean        2\n",
       "3     M1       5%     b            median        3\n",
       "4     M1       1%     a              mean        4\n",
       "5     M1       1%     a            median        5\n",
       "6     M1       1%     b              mean        6\n",
       "7     M1       1%     b            median        7\n",
       "8     M2       5%     a              mean        8\n",
       "9     M2       5%     a            median        9\n",
       "10    M2       5%     b              mean       10\n",
       "11    M2       5%     b            median       11\n",
       "12    M2       1%     a              mean       12\n",
       "13    M2       1%     a            median       13\n",
       "14    M2       1%     b              mean       14\n",
       "15    M2       1%     b            median       15"
      ]
     },
     "execution_count": 39,
     "metadata": {},
     "output_type": "execute_result"
    }
   ],
   "source": [
    "# Put everything into a dataframe\n",
    "df = pd.DataFrame(columns = [\"model\", \"quantile\", \"param\", \"summary_statistic\", \"distance\"], data = rows)\n",
    "df"
   ]
  },
  {
   "cell_type": "code",
   "execution_count": 40,
   "id": "93b8fffe",
   "metadata": {},
   "outputs": [],
   "source": [
    "from pandas.plotting import table"
   ]
  },
  {
   "cell_type": "code",
   "execution_count": 43,
   "id": "eaa9d9dc",
   "metadata": {},
   "outputs": [],
   "source": [
    "df.loc[df.duplicated('model') , 'model'] = \"\""
   ]
  },
  {
   "cell_type": "code",
   "execution_count": 44,
   "id": "00f3a08d",
   "metadata": {},
   "outputs": [
    {
     "data": {
      "image/png": "[encoded data removed]",
      "text/plain": [
       "<Figure size 640x480 with 1 Axes>"
      ]
     },
     "metadata": {},
     "output_type": "display_data"
    }
   ],
   "source": [
    "ax = plt.subplot(111, frame_on=False)\n",
    "ax.axis(\"off\")\n",
    "table(ax, df, rowLabels=['']*piv_table.shape[0], loc='center')\n",
    "plt.show()"
   ]
  },
  {
   "cell_type": "code",
   "execution_count": 45,
   "id": "e01ef907",
   "metadata": {},
   "outputs": [
    {
     "data": {
      "text/plain": [
       "(2, 2, 2)"
      ]
     },
     "execution_count": 45,
     "metadata": {},
     "output_type": "execute_result"
    }
   ],
   "source": [
    "val1.shape"
   ]
  }
 ],
 "metadata": {
  "kernelspec": {
   "display_name": "Python 3 (ipykernel)",
   "language": "python",
   "name": "python3"
  },
  "language_info": {
   "codemirror_mode": {
    "name": "ipython",
    "version": 3
   },
   "file_extension": ".py",
   "mimetype": "text/x-python",
   "name": "python",
   "nbconvert_exporter": "python",
   "pygments_lexer": "ipython3",
   "version": "3.10.9"
  }
 },
 "nbformat": 4,
 "nbformat_minor": 5
}
