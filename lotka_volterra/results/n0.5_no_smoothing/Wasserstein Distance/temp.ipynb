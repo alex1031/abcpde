{
 "cells": [
  {
   "cell_type": "code",
   "execution_count": 5,
   "metadata": {},
   "outputs": [
    {
     "data": {
      "text/plain": [
       "array([[[0.61985792, 0.61985792, 0.61985792, 0.61985792],\n",
       "        [2.25758017, 2.25758017, 2.25758017, 2.25758017]],\n",
       "\n",
       "       [[0.61985792, 0.61985792, 0.61985792, 0.61985792],\n",
       "        [2.25758017, 2.25758017, 2.25758017, 2.25758017]],\n",
       "\n",
       "       [[0.61985792, 0.61985792, 0.61985792, 0.61985792],\n",
       "        [2.25758017, 2.25758017, 2.25758017, 2.25758017]],\n",
       "\n",
       "       [[0.61985792, 0.61985792, 0.61985792, 0.61985792],\n",
       "        [2.25758017, 2.25758017, 2.25758017, 2.25758017]],\n",
       "\n",
       "       [[0.61985792, 0.61985792, 0.61985792, 0.61985792],\n",
       "        [2.25758017, 2.25758017, 2.25758017, 2.25758017]]])"
      ]
     },
     "execution_count": 5,
     "metadata": {},
     "output_type": "execute_result"
    }
   ],
   "source": [
    "import numpy as np\n",
    "temp = np.load(\"0.001posterior.npy\")\n",
    "temp"
   ]
  },
  {
   "cell_type": "code",
   "execution_count": 6,
   "metadata": {},
   "outputs": [
    {
     "data": {
      "text/plain": [
       "array([[0.61985792, 0.61985792, 0.61985792, 0.61985792],\n",
       "       [2.25758017, 2.25758017, 2.25758017, 2.25758017]])"
      ]
     },
     "execution_count": 6,
     "metadata": {},
     "output_type": "execute_result"
    }
   ],
   "source": [
    "np.mean(temp, axis=0)"
   ]
  }
 ],
 "metadata": {
  "kernelspec": {
   "display_name": "base",
   "language": "python",
   "name": "python3"
  },
  "language_info": {
   "codemirror_mode": {
    "name": "ipython",
    "version": 3
   },
   "file_extension": ".py",
   "mimetype": "text/x-python",
   "name": "python",
   "nbconvert_exporter": "python",
   "pygments_lexer": "ipython3",
   "version": "3.10.9"
  }
 },
 "nbformat": 4,
 "nbformat_minor": 2
}
