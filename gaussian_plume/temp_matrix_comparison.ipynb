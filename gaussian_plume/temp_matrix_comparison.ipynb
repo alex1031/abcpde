{
 "cells": [
  {
   "cell_type": "markdown",
   "id": "4fb77b1f-24bb-4b48-abb3-c3c43407c848",
   "metadata": {},
   "source": [
    "# Simulating N samples simultaneously"
   ]
  },
  {
   "cell_type": "markdown",
   "id": "8287d97f-b7fb-4725-8239-75c9c9228746",
   "metadata": {},
   "source": [
    "Since we are only interested in ground level, we only need to store ground level data (Saves memory).\n",
    "\n",
    "This means that our simulation can be reduce to just a 2D computation."
   ]
  },
  {
   "cell_type": "code",
   "execution_count": 1,
   "id": "2f6aa5ae-aab2-47c4-b726-9a5596b71452",
   "metadata": {},
   "outputs": [],
   "source": [
    "def run_simulation_2D(x, y, nx, ny, Lx, Ly, cx, cy, sx, sy):\n",
    "    dx, dy = Lx/(nx-1), Ly/(ny-1)\n",
    "    dt = 1\n",
    "    tend = 1200\n",
    "    t = 0\n",
    "\n",
    "    cfl_x, cfl_y = cx * dt/dx, cy * dt/dy\n",
    "    diff_x, diff_y = sx * dt/dx**2, sy * dt/dy**2\n",
    "\n",
    "    u = np.zeros((nx+2, ny+2))\n",
    "    sol = []\n",
    "    source_x, source_y = nx // 2, ny // 2\n",
    "    Q = 1e-6\n",
    "    \n",
    "    while t < tend:\n",
    "        unew = u.copy()\n",
    "        sol.append(u[1:-1, 1:-1])\n",
    "\n",
    "         # Advection (Upwind Scheme)\n",
    "        unew[1:-1, 1:-1] -= cfl_x * (u[1:-1, 1:-1] - u[1:-1, :-2])\n",
    "        unew[1:-1, 1:-1] -= cfl_y * (u[1:-1, 1:-1] - u[:-2, 1:-1])\n",
    "    \n",
    "        # Diffusion (Central Differencing)\n",
    "        unew[1:-1, 1:-1] += diff_x * (u[1:-1, 2:] - 2*u[1:-1, 1:-1] + u[1:-1, :-2])\n",
    "        unew[1:-1, 1:-1] += diff_y * (u[2:, 1:-1] - 2*u[1:-1, 1:-1] + u[:-2, 1:-1])\n",
    "\n",
    "        # Source Term\n",
    "        unew[source_x, source_y] += Q * dt\n",
    "\n",
    "        # Additional Source Points (forming a small area)\n",
    "        offsets = [(-1, -1), (-1, 1), (1, -1), (1, 1), (-1, 0), (1, 0), (0, -1), (0, 1)]\n",
    "        for dx, dy in offsets:\n",
    "            unew[source_x + dx, source_y + dy] += Q * dt\n",
    "\n",
    "        u = unew\n",
    "        t += dt\n",
    "        \n",
    "    return np.array(sol)"
   ]
  },
  {
   "cell_type": "code",
   "execution_count": 2,
   "id": "32ed208b-f0ad-4706-8ad6-e8427bc86911",
   "metadata": {},
   "outputs": [
    {
     "name": "stdout",
     "output_type": "stream",
     "text": [
      "Simulation took: 36.63258719444275\n"
     ]
    }
   ],
   "source": [
    "from joblib import Parallel, delayed\n",
    "import numpy as np\n",
    "import time as time\n",
    "\n",
    "nx, ny= 51, 51  # Grid points\n",
    "Lx, Ly = 5000, 5000  # Domain size in meters\n",
    "x = np.linspace(-2500, 2500, nx)  # Centered at (0,0)\n",
    "y = np.linspace(-2500, 2500, ny)\n",
    "n = 1000\n",
    "cx, cy = np.random.RandomState().uniform(0, 10, n), np.random.RandomState().uniform(0, 10, n)\n",
    "sx, sy = np.random.RandomState().uniform(0, 1, n), np.random.RandomState().uniform(0, 1, n)\n",
    "num_cores = -1\n",
    "\n",
    "start_time = time.time()\n",
    "results = Parallel(n_jobs=num_cores)(\n",
    "    delayed(run_simulation_2D)(x, y, nx, ny, Lx, Ly, cx[i], cy[i], sx[i], sy[i])\n",
    "    for i in range(n)\n",
    ")\n",
    "end_time = time.time()\n",
    "\n",
    "print(f\"Simulation took: {end_time-start_time}\")"
   ]
  },
  {
   "cell_type": "code",
   "execution_count": 3,
   "id": "12d6d60a-937c-423b-8867-263fc4131d4e",
   "metadata": {},
   "outputs": [
    {
     "data": {
      "text/plain": [
       "((51, 51, 1200), (1200, 51, 51))"
      ]
     },
     "execution_count": 3,
     "metadata": {},
     "output_type": "execute_result"
    }
   ],
   "source": [
    "observed = np.load(\"test.npy\")\n",
    "observed.shape, results[0].shape"
   ]
  },
  {
   "cell_type": "markdown",
   "id": "d416157a-da1e-4ada-ad74-78b47f608734",
   "metadata": {},
   "source": [
    "We need to fix the shapes so that they correspond to each other.\n",
    "\n",
    "Currently the simulated results is represented in an 3-D array, where each array within a timestep, and the respective concentration in the x-y grid. The observed is also in a 3-D array, however in shape (51, 51, 1200). This should mean that for each x-grid, it shows the value of y over time 1200.\n",
    "\n",
    "Using `np.reshape` work in matching the dimensions. However, as the time and spatial dimensions are handled differently, it may not yield the same definition. Specifically, each slice in the observed in a seperate calculation per time step (instantaneous snapshots at t_i), whereas the simulation tracks concentration evolving over time. Time for simulated is the first axis, whereas it is last axis for observed."
   ]
  },
  {
   "cell_type": "code",
   "execution_count": 4,
   "id": "c37eb691-ade9-4bb6-a6fd-71d199260eee",
   "metadata": {},
   "outputs": [
    {
     "data": {
      "text/plain": [
       "((51, 51, 1200), (51, 51, 1200))"
      ]
     },
     "execution_count": 4,
     "metadata": {},
     "output_type": "execute_result"
    }
   ],
   "source": [
    "results[0].reshape((51, 51, 1200)).shape, observed.shape"
   ]
  },
  {
   "cell_type": "markdown",
   "id": "67d8bb0f-10a7-4e4b-b5ac-3e1bda1e3e96",
   "metadata": {},
   "source": [
    "An alternative here is to use `np.tranpose()`. This gives us more clarity into how we transform the simulated data.\n",
    "\n",
    "Structure for simulated solution (axis 0: Time, axis 1:, Nx, axis 2: Ny) and analytical solution (axis 0: Nx, axis 1: Ny, axis 2: Time).\n",
    "\n",
    "By using using `np.transpose(results[0], (1, 2, 0))`, the axes are rearranged to be:\n",
    "\n",
    "- Simulated solution (axis 0: Nx, axis 1:, Ny, axis 2: Time)\n",
    "\n",
    "Which is what we wanted."
   ]
  },
  {
   "cell_type": "code",
   "execution_count": 5,
   "id": "858b71b3-fdac-44d8-b38a-48d400ca22c7",
   "metadata": {},
   "outputs": [
    {
     "data": {
      "text/plain": [
       "(51, 51, 1200)"
      ]
     },
     "execution_count": 5,
     "metadata": {},
     "output_type": "execute_result"
    }
   ],
   "source": [
    "np.transpose(results[0], (1, 2, 0)).shape"
   ]
  },
  {
   "cell_type": "markdown",
   "id": "ccee6a07-18b6-4d3e-95cc-69618340cf50",
   "metadata": {},
   "source": [
    "The updated function now looks like this:"
   ]
  },
  {
   "cell_type": "code",
   "execution_count": 1,
   "id": "019621ff-605d-4574-bb7d-96b8313a3b6a",
   "metadata": {},
   "outputs": [],
   "source": [
    "def run_simulation_2D(x, y, nx, ny, Lx, Ly, cx, cy, sx, sy):\n",
    "    dx, dy = Lx/(nx-1), Ly/(ny-1)\n",
    "    dt = 1\n",
    "    tend = 1200\n",
    "    t = 0\n",
    "\n",
    "    cfl_x, cfl_y = cx * dt/dx, cy * dt/dy\n",
    "    diff_x, diff_y = sx * dt/dx**2, sy * dt/dy**2\n",
    "\n",
    "    u = np.zeros((nx+2, ny+2))\n",
    "    sol = []\n",
    "    source_x, source_y = nx // 2, ny // 2\n",
    "    Q = 1e-6\n",
    "    \n",
    "    while t < tend:\n",
    "        unew = u.copy()\n",
    "        sol.append(u[1:-1, 1:-1])\n",
    "\n",
    "         # Advection (Upwind Scheme)\n",
    "        unew[1:-1, 1:-1] -= cfl_x * (u[1:-1, 1:-1] - u[1:-1, :-2])\n",
    "        unew[1:-1, 1:-1] -= cfl_y * (u[1:-1, 1:-1] - u[:-2, 1:-1])\n",
    "    \n",
    "        # Diffusion (Central Differencing)\n",
    "        unew[1:-1, 1:-1] += diff_x * (u[1:-1, 2:] - 2*u[1:-1, 1:-1] + u[1:-1, :-2])\n",
    "        unew[1:-1, 1:-1] += diff_y * (u[2:, 1:-1] - 2*u[1:-1, 1:-1] + u[:-2, 1:-1])\n",
    "\n",
    "        # Source Term\n",
    "        unew[source_x, source_y] += Q * dt\n",
    "\n",
    "        # Additional Source Points (forming a small area)\n",
    "        offsets = [(-1, -1), (-1, 1), (1, -1), (1, 1), (-1, 0), (1, 0), (0, -1), (0, 1)]\n",
    "        for dx, dy in offsets:\n",
    "            unew[source_x + dx, source_y + dy] += Q * dt\n",
    "\n",
    "        u = unew\n",
    "        t += dt\n",
    "\n",
    "    sol = np.transpose(sol, (1, 2, 0))\n",
    "    return np.array(sol)"
   ]
  },
  {
   "cell_type": "code",
   "execution_count": 2,
   "id": "7154225b-9689-44cf-a566-b37547ff0ea2",
   "metadata": {},
   "outputs": [
    {
     "name": "stdout",
     "output_type": "stream",
     "text": [
      "Simulation took: 2.4160685539245605\n"
     ]
    }
   ],
   "source": [
    "from joblib import Parallel, delayed\n",
    "import numpy as np\n",
    "import time as time\n",
    "\n",
    "nx, ny= 51, 51  # Grid points\n",
    "Lx, Ly = 5000, 5000  # Domain size in meters\n",
    "x = np.linspace(-2500, 2500, nx)  # Centered at (0,0)\n",
    "y = np.linspace(-2500, 2500, ny)\n",
    "n = 50\n",
    "cx, cy = np.random.RandomState().uniform(0, 10, n), np.random.RandomState().uniform(0, 10, n)\n",
    "sx, sy = np.random.RandomState().uniform(0, 1, n), np.random.RandomState().uniform(0, 1, n)\n",
    "num_cores = -1\n",
    "\n",
    "start_time = time.time()\n",
    "results = Parallel(n_jobs=num_cores)(\n",
    "    delayed(run_simulation_2D)(x, y, nx, ny, Lx, Ly, cx[i], cy[i], sx[i], sy[i])\n",
    "    for i in range(n)\n",
    ")\n",
    "end_time = time.time()\n",
    "\n",
    "print(f\"Simulation took: {end_time-start_time}\")"
   ]
  },
  {
   "cell_type": "markdown",
   "id": "d2fc7dd8-2337-44f2-8796-a3cf7df76472",
   "metadata": {},
   "source": [
    "## Applying Distance Metrics"
   ]
  },
  {
   "cell_type": "markdown",
   "id": "d70cb4b6-6597-47d1-87b3-105679e2ff6a",
   "metadata": {},
   "source": [
    "We try to implement the same way as we have for the 1D problem, and adjust if there are any issues.\n",
    "\n",
    "Because the shape of the results would be in 4D (n, Nx, Ny, time), it would be infeasible to try and solve everything all at once.\n",
    "\n",
    "However, parallelisation can still be utilised."
   ]
  },
  {
   "cell_type": "code",
   "execution_count": 3,
   "id": "5d6dba5e-27e7-4fae-b6ce-e16500e863d9",
   "metadata": {},
   "outputs": [],
   "source": [
    "import numpy as np \n",
    "from scipy.spatial.distance import pdist, squareform, cdist"
   ]
  },
  {
   "cell_type": "code",
   "execution_count": 4,
   "id": "ece3190f-00b0-4c49-a500-65404f71564e",
   "metadata": {},
   "outputs": [],
   "source": [
    "observed = np.load(\"test.npy\")"
   ]
  },
  {
   "cell_type": "code",
   "execution_count": 5,
   "id": "bcf2583a-dbc3-48a3-a908-196247d27681",
   "metadata": {},
   "outputs": [
    {
     "data": {
      "text/plain": [
       "50"
      ]
     },
     "execution_count": 5,
     "metadata": {},
     "output_type": "execute_result"
    }
   ],
   "source": [
    "len(results)"
   ]
  },
  {
   "cell_type": "markdown",
   "id": "47e4fae8-cd15-4e93-8cf5-a666cf36be79",
   "metadata": {},
   "source": [
    "The distances should be modified such that it computes the distance **for each spatial location** across time first (outputting a 51x51 matrix), with each (i, j) representating the distance at that point, and then output an average (?).\n",
    "\n",
    "The original distance metrics were desgined so that it computes the distance between each column.\n",
    "- This is because each column represented one solution."
   ]
  },
  {
   "cell_type": "markdown",
   "id": "63a29f6f-eeb9-4dc2-8aa3-a88d6c064b3a",
   "metadata": {},
   "source": [
    "### Wasserstein"
   ]
  },
  {
   "cell_type": "markdown",
   "id": "137f4d49-d88f-4ba2-9299-c377577ab661",
   "metadata": {},
   "source": [
    "#### Original"
   ]
  },
  {
   "cell_type": "code",
   "execution_count": 6,
   "id": "ef24e8b1-7602-4ac8-a60a-f228817833d8",
   "metadata": {},
   "outputs": [],
   "source": [
    "def wasserstein_distance(simulated_sample: np.ndarray, observed_sample: np.ndarray) -> float:\n",
    "    # Mean Difference between simulated and observed\n",
    "    simulated_sorted = np.sort(simulated_sample, axis=0)\n",
    "    observed_sorted = np.sort(observed_sample, axis=0)\n",
    "    distance = np.mean(np.abs(simulated_sorted - observed_sorted), axis=0)\n",
    "\n",
    "    return distance"
   ]
  },
  {
   "cell_type": "markdown",
   "id": "d6b89308-faed-49c9-8d0a-97f169d01428",
   "metadata": {},
   "source": [
    "#### Modified"
   ]
  },
  {
   "cell_type": "code",
   "execution_count": 7,
   "id": "4a9f17fc-2658-4616-ab60-0970df042328",
   "metadata": {},
   "outputs": [],
   "source": [
    "def wasserstein_distance_3D(simulated_sample: np.ndarray, observed_sample: np.ndarray) -> np.ndarray:\n",
    "    \"\"\"\n",
    "    Compute the Wasserstein distance between two (51, 51, 1200) shaped arrays \n",
    "    along the time dimension.\n",
    "\n",
    "    Returns a (51, 51) array of distances for each spatial location.\n",
    "    \"\"\"\n",
    "    # Sort along the time axis (axis=2)\n",
    "    simulated_sorted = np.sort(simulated_sample, axis=2)\n",
    "    observed_sorted = np.sort(observed_sample, axis=2)\n",
    "\n",
    "    # Compute the mean absolute difference along the time axis\n",
    "    distance = np.mean(np.abs(simulated_sorted - observed_sorted), axis=2)\n",
    "\n",
    "    return distance "
   ]
  },
  {
   "cell_type": "code",
   "execution_count": 8,
   "id": "d83bc07d-fee6-4779-baa3-4ae34aaa960b",
   "metadata": {},
   "outputs": [],
   "source": [
    "wass = Parallel(n_jobs=num_cores)(\n",
    "    delayed(wasserstein_distance_3D)(results[i], observed)\n",
    "    for i in range(n)\n",
    ")"
   ]
  },
  {
   "cell_type": "markdown",
   "id": "ecd17ba3-0f53-4f16-86f8-4f2191a28759",
   "metadata": {},
   "source": [
    "### Energy"
   ]
  },
  {
   "cell_type": "markdown",
   "id": "25af997b-e43f-4c70-aab0-66b6fc30faff",
   "metadata": {},
   "source": [
    "I expect that energy, MMD and KLD will take a lot longer because of the nature of the $O(n^2)$ nature of the metrics. Where the need to calculate pairwise distances between 2D matricies will be computationally difficult."
   ]
  },
  {
   "cell_type": "markdown",
   "id": "8bdaaf84-d441-4b40-8f7e-28818e19e383",
   "metadata": {},
   "source": [
    "#### Original"
   ]
  },
  {
   "cell_type": "code",
   "execution_count": 6,
   "id": "f7e3bfd5-b17f-4c10-88b6-d68c990bffc2",
   "metadata": {},
   "outputs": [],
   "source": [
    "def energy_dist(simulated_sample: np.ndarray, observed_sample: np.ndarray) -> float:\n",
    "    ncol = simulated_sample.shape[1]\n",
    "\n",
    "    mean_dist_XY = np.empty(ncol)  # Mean distances between columns\n",
    "    mean_dist_XX = np.empty(ncol)  # Mean distances within array1\n",
    "    mean_dist_YY = np.empty(ncol)  # Mean distances within array2\n",
    "\n",
    "    for i in range(ncol):\n",
    "        mean_dist_XX[i] = np.mean(squareform(pdist(simulated_sample[:, i, np.newaxis], metric='euclidean')))\n",
    "        mean_dist_YY[i] = np.mean(squareform(pdist(observed_sample[:, i, np.newaxis], metric='euclidean')))\n",
    "        mean_dist_XY[i] = np.mean(cdist(simulated_sample[:, i, np.newaxis], observed_sample[:, i, np.newaxis], metric='euclidean'))\n",
    "\n",
    "    # Calculate the energy distances for each column in a vectorized way\n",
    "    energy_distances = 2 * mean_dist_XY - mean_dist_XX - mean_dist_YY\n",
    "\n",
    "    return energy_distances"
   ]
  },
  {
   "cell_type": "markdown",
   "id": "67b2a915-e4b1-4dd0-9aa7-4c53b1cde553",
   "metadata": {},
   "source": [
    "#### Modified"
   ]
  },
  {
   "cell_type": "markdown",
   "id": "e3ab194e-f92c-4b4e-814e-405ffc0693a0",
   "metadata": {},
   "source": [
    "To apply energy distance for our problem, we have to calculate energy distance at each [i, j] component of the matrix. \n",
    "\n",
    "Each [i, j] component has t=1200 values. i.e Each grid is a curve of its own. So in total we have 51x51=2601 curves.\n",
    "\n",
    "So we need to calculate the energy distance 2601 times, and then return an average of energy distance?\n",
    "- May be concerns because of domain size, maybe we only care about the middle bit, or the max energy distance, etc."
   ]
  },
  {
   "cell_type": "code",
   "execution_count": 33,
   "id": "9ca264db-6f52-4478-afdc-6ef8e49540c1",
   "metadata": {},
   "outputs": [],
   "source": [
    "Nx, Ny, t = results[0].shape\n",
    "obs_pairwise = []\n",
    "\n",
    "for i in range(Nx):\n",
    "    for j in range(Ny):\n",
    "        obs_ij = observed[i, j, :].reshape(-1,1) # We now have an array of size 1200, then reshaped to be (1200, 1)\n",
    "        obs_pairwise.append(np.mean(pdist(obs_ij)))"
   ]
  },
  {
   "cell_type": "code",
   "execution_count": 37,
   "id": "de5703f6-9a9f-4dd8-b25e-e65017cfc212",
   "metadata": {},
   "outputs": [
    {
     "data": {
      "text/plain": [
       "0"
      ]
     },
     "execution_count": 37,
     "metadata": {},
     "output_type": "execute_result"
    }
   ],
   "source": [
    "sum(np.array(obs_pairwise) > 0)"
   ]
  },
  {
   "cell_type": "code",
   "execution_count": 40,
   "id": "b9fe2b9f-6b1d-4c21-b4ed-6e5baf91d38b",
   "metadata": {},
   "outputs": [
    {
     "data": {
      "text/plain": [
       "(51, 1200)"
      ]
     },
     "execution_count": 40,
     "metadata": {},
     "output_type": "execute_result"
    }
   ],
   "source": [
    "observed[0].shape"
   ]
  },
  {
   "cell_type": "code",
   "execution_count": 17,
   "id": "b7cee7da-92c6-4853-b768-88fad171bfc3",
   "metadata": {},
   "outputs": [],
   "source": [
    "def energy_dist_3D(simulated_sample: np.ndarray, observed_sample: np.ndarray) -> np.ndarray:\n",
    "    Nx, Ny, T = simulated_sample.shape  # (51, 51, 1200)\n",
    "    energy_distances = np.empty((Nx, Ny))  # Store distance for each (x, y)\n",
    "\n",
    "    for i in range(Nx):\n",
    "        for j in range(Ny):\n",
    "            # Extract time series at (i, j) location\n",
    "            sim_series = simulated_sample[i, j, :].reshape(-1, 1)  # (1200, 1)\n",
    "            obs_series = observed_sample[i, j, :].reshape(-1, 1)  # (1200, 1)\n",
    "\n",
    "            # Compute mean pairwise distances\n",
    "            mean_dist_XX = np.mean(squareform(pdist(sim_series, metric='euclidean')))\n",
    "            mean_dist_YY = np.mean(squareform(pdist(obs_series, metric='euclidean')))\n",
    "            mean_dist_XY = np.mean(cdist(sim_series, obs_series, metric='euclidean'))\n",
    "\n",
    "            # Compute energy distance\n",
    "            energy_distances[i, j] = 2 * mean_dist_XY - mean_dist_XX - mean_dist_YY\n",
    "\n",
    "    return energy_distances"
   ]
  },
  {
   "cell_type": "code",
   "execution_count": 16,
   "id": "74cb9b6c-395c-4e83-88d5-673d824b1447",
   "metadata": {},
   "outputs": [
    {
     "data": {
      "text/plain": [
       "array([[1.96649462e-12, 6.07211140e-12, 1.79061042e-11, ...,\n",
       "        1.79061042e-11, 6.07211140e-12, 1.96649462e-12],\n",
       "       [7.68599312e-13, 2.57921208e-12, 8.23784132e-12, ...,\n",
       "        8.23784132e-12, 2.57921208e-12, 7.68599312e-13],\n",
       "       [2.65328094e-13, 9.77496878e-13, 3.41453778e-12, ...,\n",
       "        3.41453778e-12, 9.77496878e-13, 2.65328094e-13],\n",
       "       ...,\n",
       "       [5.78720710e-92, 7.17956526e-89, 8.65213478e-86, ...,\n",
       "        1.20644628e-15, 1.78437511e-15, 2.57310604e-15],\n",
       "       [1.12597471e-92, 1.37530226e-89, 1.63048833e-86, ...,\n",
       "        2.39120304e-16, 3.58553114e-16, 5.23815539e-16],\n",
       "       [2.13481262e-93, 2.56917679e-90, 2.99874718e-87, ...,\n",
       "        4.61475461e-17, 7.01032529e-17, 1.03685704e-16]])"
      ]
     },
     "execution_count": 16,
     "metadata": {},
     "output_type": "execute_result"
    }
   ],
   "source": [
    "energy_dist_3D(results[0], observed)"
   ]
  },
  {
   "cell_type": "markdown",
   "id": "a7a3756c-94d3-4a0e-8602-d0647e81923a",
   "metadata": {},
   "source": [
    "#### Optimising the distance"
   ]
  },
  {
   "cell_type": "markdown",
   "id": "386e25fa-f8f3-48f5-bb4b-9bc30f8dd55c",
   "metadata": {},
   "source": [
    "Key points to optimise:\n",
    "- **Avoid the double loop**: Because the output is the average (?), it will work as long as the indicies between the two input arrays match.\n",
    "- **Pairwise distances**: Is it possible to not calculate the pairwise distance between observed and itself (YY) everytime?"
   ]
  },
  {
   "cell_type": "code",
   "execution_count": 13,
   "id": "3ce27859-3d4e-44ee-b9c1-6d3c09c6b24a",
   "metadata": {},
   "outputs": [
    {
     "data": {
      "text/plain": [
       "(1200,)"
      ]
     },
     "execution_count": 13,
     "metadata": {},
     "output_type": "execute_result"
    }
   ],
   "source": [
    "observed[0, 0,:].shape\n",
    "# squareform(pdist(observed), axis=1)"
   ]
  },
  {
   "cell_type": "code",
   "execution_count": null,
   "id": "473048ae-6e89-4afe-9957-761fcef0c259",
   "metadata": {},
   "outputs": [],
   "source": [
    "def energy_dist_3D(simulated_sample: np.ndarray, observed_sample: np.ndarray) -> np.ndarray:\n",
    "    # Nx, Ny, T = simulated_sample.shape  # (51, 51, 1200)\n",
    "\n",
    "    # # Reshape to (Nx*Ny, T) to handle all spatial locations at once\n",
    "    # sim_reshaped = simulated_sample.reshape(Nx * Ny, T)\n",
    "    # obs_reshaped = observed_sample.reshape(Nx * Ny, T)\n",
    "\n",
    "    # # Compute pairwise distances *only across the time axis* (T)\n",
    "    # for i in range(Nx * Ny):\n",
    "    #     mean_dist_XX = np.mean(squareform(pdist(sim_reshaped[i, :, None])), axis=1)\n",
    "    #     mean_dist_YY = np.mean(squareform(pdist(obs_reshaped[i, :, None])), axis=1)\n",
    "    #     mean_dist_XY = np.mean(cdist(sim_reshaped[i, :, None], obs_reshaped[i, :, None]), axis=1)\n",
    "\n",
    "    #     # energy_distance\n",
    "                                        \n",
    "    # mean_dist_XY = np.mean([cdist(sim_reshaped[i, :, None], obs_reshaped[i, :, None], metric='euclidean') for i in range(Nx * Ny)], axis=1)\n",
    "\n",
    "    # # Compute energy distance\n",
    "    # energy_distances = 2 * mean_dist_XY - mean_dist_XX - mean_dist_YY\n",
    "\n",
    "    # Reshape back to (51, 51)\n",
    "    return energy_distances.reshape(Nx, Ny)"
   ]
  },
  {
   "cell_type": "code",
   "execution_count": 40,
   "id": "afa549b6-0c9e-470a-9045-c945a3738929",
   "metadata": {},
   "outputs": [],
   "source": [
    "# def energy_dist_3D(simulated_sample: np.ndarray, observed_sample: np.ndarray) -> np.ndarray:\n",
    "#     Nx, Ny, T = simulated_sample.shape  # (51, 51, 1200)\n",
    "\n",
    "#     # Reshape to (Nx*Ny, T) to handle all spatial locations at once\n",
    "#     sim_reshaped = simulated_sample.reshape(Nx * Ny, T)\n",
    "#     obs_reshaped = observed_sample.reshape(Nx * Ny, T)\n",
    "\n",
    "#     # Compute pairwise distances *only across the time axis* (T)\n",
    "#     for i in range(Nx * Ny):\n",
    "#         mean_dist_XX = np.mean(squareform(pdist(sim_reshaped[i, :, None])), axis=1)\n",
    "#         mean_dist_YY = np.mean(squareform(pdist(obs_reshaped[i, :, None])), axis=1)\n",
    "#         mean_dist_XY = np.mean(cdist(sim_reshaped[i, :, None], obs_reshaped[i, :, None]), axis=1)\n",
    "\n",
    "#         # energy_distance\n",
    "                                        \n",
    "#     mean_dist_XY = np.mean([cdist(sim_reshaped[i, :, None], obs_reshaped[i, :, None], metric='euclidean') for i in range(Nx * Ny)], axis=1)\n",
    "\n",
    "#     # Compute energy distance\n",
    "#     energy_distances = 2 * mean_dist_XY - mean_dist_XX - mean_dist_YY\n",
    "\n",
    "#     # Reshape back to (51, 51)\n",
    "#     return energy_distances.reshape(Nx, Ny)"
   ]
  },
  {
   "cell_type": "code",
   "execution_count": 41,
   "id": "171bfcee-8f05-4e86-9317-87b2884ef244",
   "metadata": {},
   "outputs": [
    {
     "data": {
      "text/plain": [
       "array([[-1.77843557e-06, -1.77846801e-06, -1.77856557e-06, ...,\n",
       "        -1.77856557e-06, -1.77846801e-06, -1.77843557e-06],\n",
       "       [-1.77842657e-06, -1.77844027e-06, -1.77848557e-06, ...,\n",
       "        -1.77848557e-06, -1.77844027e-06, -1.77842657e-06],\n",
       "       [-1.77842290e-06, -1.77842812e-06, -1.77844678e-06, ...,\n",
       "        -1.77844678e-06, -1.77842812e-06, -1.77842290e-06],\n",
       "       ...,\n",
       "       [-1.77842107e-06, -1.77842107e-06, -1.77842107e-06, ...,\n",
       "        -1.77842098e-06, -1.77842093e-06, -1.77842085e-06],\n",
       "       [-1.77842107e-06, -1.77842107e-06, -1.77842107e-06, ...,\n",
       "        -1.77842105e-06, -1.77842104e-06, -1.77842102e-06],\n",
       "       [-1.77842107e-06, -1.77842107e-06, -1.77842107e-06, ...,\n",
       "        -1.77842106e-06, -1.77842106e-06, -1.77842106e-06]])"
      ]
     },
     "execution_count": 41,
     "metadata": {},
     "output_type": "execute_result"
    }
   ],
   "source": [
    "energy_dist_3D_optimized(results[0], observed)"
   ]
  }
 ],
 "metadata": {
  "kernelspec": {
   "display_name": "Python 3 (ipykernel)",
   "language": "python",
   "name": "python3"
  },
  "language_info": {
   "codemirror_mode": {
    "name": "ipython",
    "version": 3
   },
   "file_extension": ".py",
   "mimetype": "text/x-python",
   "name": "python",
   "nbconvert_exporter": "python",
   "pygments_lexer": "ipython3",
   "version": "3.10.13"
  }
 },
 "nbformat": 4,
 "nbformat_minor": 5
}
