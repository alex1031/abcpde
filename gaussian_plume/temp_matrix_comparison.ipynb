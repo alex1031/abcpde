{
 "cells": [
  {
   "cell_type": "markdown",
   "id": "4fb77b1f-24bb-4b48-abb3-c3c43407c848",
   "metadata": {},
   "source": [
    "# Simulating N samples simultaneously"
   ]
  },
  {
   "cell_type": "markdown",
   "id": "8287d97f-b7fb-4725-8239-75c9c9228746",
   "metadata": {},
   "source": [
    "Since we are only interested in ground level, we only need to store ground level data (Saves memory).\n",
    "\n",
    "This means that our simulation can be reduce to just a 2D computation."
   ]
  },
  {
   "cell_type": "code",
   "execution_count": 1,
   "id": "2f6aa5ae-aab2-47c4-b726-9a5596b71452",
   "metadata": {},
   "outputs": [],
   "source": [
    "def run_simulation_2D(x, y, nx, ny, Lx, Ly, cx, cy, sx, sy):\n",
    "    dx, dy = Lx/(nx-1), Ly/(ny-1)\n",
    "    dt = 1\n",
    "    tend = 1200\n",
    "    t = 0\n",
    "\n",
    "    cfl_x, cfl_y = cx * dt/dx, cy * dt/dy\n",
    "    diff_x, diff_y = sx * dt/dx**2, sy * dt/dy**2\n",
    "\n",
    "    u = np.zeros((nx+2, ny+2))\n",
    "    sol = []\n",
    "    source_x, source_y = nx // 2, ny // 2\n",
    "    Q = 1e-6\n",
    "    \n",
    "    while t < tend:\n",
    "        unew = u.copy()\n",
    "        sol.append(u[1:-1, 1:-1])\n",
    "\n",
    "         # Advection (Upwind Scheme)\n",
    "        unew[1:-1, 1:-1] -= cfl_x * (u[1:-1, 1:-1] - u[1:-1, :-2])\n",
    "        unew[1:-1, 1:-1] -= cfl_y * (u[1:-1, 1:-1] - u[:-2, 1:-1])\n",
    "    \n",
    "        # Diffusion (Central Differencing)\n",
    "        unew[1:-1, 1:-1] += diff_x * (u[1:-1, 2:] - 2*u[1:-1, 1:-1] + u[1:-1, :-2])\n",
    "        unew[1:-1, 1:-1] += diff_y * (u[2:, 1:-1] - 2*u[1:-1, 1:-1] + u[:-2, 1:-1])\n",
    "\n",
    "        # Source Term\n",
    "        unew[source_x, source_y] += Q * dt\n",
    "\n",
    "        # Additional Source Points (forming a small area)\n",
    "        offsets = [(-1, -1), (-1, 1), (1, -1), (1, 1), (-1, 0), (1, 0), (0, -1), (0, 1)]\n",
    "        for dx, dy in offsets:\n",
    "            unew[source_x + dx, source_y + dy] += Q * dt\n",
    "\n",
    "        u = unew\n",
    "        t += dt\n",
    "        \n",
    "    return np.array(sol)"
   ]
  },
  {
   "cell_type": "code",
   "execution_count": null,
   "id": "32ed208b-f0ad-4706-8ad6-e8427bc86911",
   "metadata": {},
   "outputs": [],
   "source": [
    "from joblib import Parallel, delayed\n",
    "import numpy as np\n",
    "import time as time\n",
    "\n",
    "nx, ny= 51, 51  # Grid points\n",
    "Lx, Ly = 5000, 5000  # Domain size in meters\n",
    "x = np.linspace(-2500, 2500, nx)  # Centered at (0,0)\n",
    "y = np.linspace(-2500, 2500, ny)\n",
    "n = 1000\n",
    "cx, cy = np.random.RandomState().uniform(0, 10, n), np.random.RandomState().uniform(0, 10, n)\n",
    "sx, sy = np.random.RandomState().uniform(0, 1, n), np.random.RandomState().uniform(0, 1, n)\n",
    "num_cores = -1\n",
    "\n",
    "start_time = time.time()\n",
    "results = Parallel(n_jobs=num_cores)(\n",
    "    delayed(run_simulation_2D)(x, y, nx, ny, Lx, Ly, cx[i], cy[i], sx[i], sy[i])\n",
    "    for i in range(n)\n",
    ")\n",
    "end_time = time.time()\n",
    "\n",
    "print(f\"Simulation took: {end_time-start_time}\")"
   ]
  },
  {
   "cell_type": "code",
   "execution_count": null,
   "id": "12d6d60a-937c-423b-8867-263fc4131d4e",
   "metadata": {},
   "outputs": [],
   "source": [
    "observed = np.load(\"test.npy\")\n",
    "observed.shape, results[0].shape"
   ]
  },
  {
   "cell_type": "markdown",
   "id": "d416157a-da1e-4ada-ad74-78b47f608734",
   "metadata": {},
   "source": [
    "We need to fix the shapes so that they correspond to each other.\n",
    "\n",
    "Currently the simulated results is represented in an 3-D array, where each array within a timestep, and the respective concentration in the x-y grid. The observed is also in a 3-D array, however in shape (51, 51, 1200). This should mean that for each x-grid, it shows the value of y over time 1200.\n",
    "\n",
    "Using `np.reshape` work in matching the dimensions. However, as the time and spatial dimensions are handled differently, it may not yield the same definition. Specifically, each slice in the observed in a seperate calculation per time step (instantaneous snapshots at t_i), whereas the simulation tracks concentration evolving over time. Time for simulated is the first axis, whereas it is last axis for observed."
   ]
  },
  {
   "cell_type": "code",
   "execution_count": 4,
   "id": "c37eb691-ade9-4bb6-a6fd-71d199260eee",
   "metadata": {},
   "outputs": [
    {
     "data": {
      "text/plain": [
       "((51, 51, 1200), (51, 51, 1200))"
      ]
     },
     "execution_count": 4,
     "metadata": {},
     "output_type": "execute_result"
    }
   ],
   "source": [
    "results[0].reshape((51, 51, 1200)).shape, observed.shape"
   ]
  },
  {
   "cell_type": "markdown",
   "id": "67d8bb0f-10a7-4e4b-b5ac-3e1bda1e3e96",
   "metadata": {},
   "source": [
    "An alternative here is to use `np.tranpose()`. This gives us more clarity into how we transform the simulated data.\n",
    "\n",
    "Structure for simulated solution (axis 0: Time, axis 1:, Nx, axis 2: Ny) and analytical solution (axis 0: Nx, axis 1: Ny, axis 2: Time).\n",
    "\n",
    "By using using `np.transpose(results[0], (1, 2, 0))`, the axes are rearranged to be:\n",
    "\n",
    "- Simulated solution (axis 0: Nx, axis 1:, Ny, axis 2: Time)\n",
    "\n",
    "Which is what we wanted."
   ]
  },
  {
   "cell_type": "code",
   "execution_count": 5,
   "id": "858b71b3-fdac-44d8-b38a-48d400ca22c7",
   "metadata": {},
   "outputs": [
    {
     "data": {
      "text/plain": [
       "(51, 51, 1200)"
      ]
     },
     "execution_count": 5,
     "metadata": {},
     "output_type": "execute_result"
    }
   ],
   "source": [
    "np.transpose(results[0], (1, 2, 0)).shape"
   ]
  },
  {
   "cell_type": "markdown",
   "id": "ccee6a07-18b6-4d3e-95cc-69618340cf50",
   "metadata": {},
   "source": [
    "The updated function now looks like this:"
   ]
  },
  {
   "cell_type": "code",
   "execution_count": 4,
   "id": "019621ff-605d-4574-bb7d-96b8313a3b6a",
   "metadata": {},
   "outputs": [],
   "source": [
    "def run_simulation_2D(x, y, nx, ny, Lx, Ly, cx, cy, sx, sy):\n",
    "    dx, dy = Lx/(nx-1), Ly/(ny-1)\n",
    "    dt = 1\n",
    "    tend = 1200\n",
    "    t = 0\n",
    "\n",
    "    cfl_x, cfl_y = cx * dt/dx, cy * dt/dy\n",
    "    diff_x, diff_y = sx * dt/dx**2, sy * dt/dy**2\n",
    "\n",
    "    u = np.zeros((nx+2, ny+2))\n",
    "    sol = []\n",
    "    source_x, source_y = nx // 2, ny // 2\n",
    "    Q = 1e-6\n",
    "    \n",
    "    while t < tend:\n",
    "        unew = u.copy()\n",
    "        sol.append(u[1:-1, 1:-1])\n",
    "\n",
    "         # Advection (Upwind Scheme)\n",
    "        unew[1:-1, 1:-1] -= cfl_x * (u[1:-1, 1:-1] - u[1:-1, :-2])\n",
    "        unew[1:-1, 1:-1] -= cfl_y * (u[1:-1, 1:-1] - u[:-2, 1:-1])\n",
    "    \n",
    "        # Diffusion (Central Differencing)\n",
    "        unew[1:-1, 1:-1] += diff_x * (u[1:-1, 2:] - 2*u[1:-1, 1:-1] + u[1:-1, :-2])\n",
    "        unew[1:-1, 1:-1] += diff_y * (u[2:, 1:-1] - 2*u[1:-1, 1:-1] + u[:-2, 1:-1])\n",
    "\n",
    "        # Source Term\n",
    "        unew[source_x, source_y] += Q * dt\n",
    "\n",
    "        # Additional Source Points (forming a small area)\n",
    "        offsets = [(-1, -1), (-1, 1), (1, -1), (1, 1), (-1, 0), (1, 0), (0, -1), (0, 1)]\n",
    "        for dx, dy in offsets:\n",
    "            unew[source_x + dx, source_y + dy] += Q * dt\n",
    "\n",
    "        u = unew\n",
    "        t += dt\n",
    "\n",
    "    sol = np.transpose(sol, (1, 2, 0))\n",
    "    return np.array(sol)"
   ]
  },
  {
   "cell_type": "code",
   "execution_count": 5,
   "id": "7154225b-9689-44cf-a566-b37547ff0ea2",
   "metadata": {},
   "outputs": [
    {
     "name": "stdout",
     "output_type": "stream",
     "text": [
      "Simulation took: 2.170866012573242\n"
     ]
    }
   ],
   "source": [
    "from joblib import Parallel, delayed\n",
    "import numpy as np\n",
    "import time as time\n",
    "\n",
    "nx, ny= 51, 51  # Grid points\n",
    "Lx, Ly = 5000, 5000  # Domain size in meters\n",
    "x = np.linspace(-2500, 2500, nx)  # Centered at (0,0)\n",
    "y = np.linspace(-2500, 2500, ny)\n",
    "n = 50\n",
    "cx, cy = np.random.RandomState().uniform(0, 10, n), np.random.RandomState().uniform(0, 10, n)\n",
    "sx, sy = np.random.RandomState().uniform(0, 1, n), np.random.RandomState().uniform(0, 1, n)\n",
    "num_cores = -1\n",
    "\n",
    "start_time = time.time()\n",
    "results = Parallel(n_jobs=num_cores)(\n",
    "    delayed(run_simulation_2D)(x, y, nx, ny, Lx, Ly, cx[i], cy[i], sx[i], sy[i])\n",
    "    for i in range(n)\n",
    ")\n",
    "end_time = time.time()\n",
    "\n",
    "print(f\"Simulation took: {end_time-start_time}\")"
   ]
  },
  {
   "cell_type": "code",
   "execution_count": 6,
   "id": "b6a9c285-90e8-4223-8151-85b2df20a1f8",
   "metadata": {},
   "outputs": [
    {
     "data": {
      "text/plain": [
       "(51, 51, 1200)"
      ]
     },
     "execution_count": 6,
     "metadata": {},
     "output_type": "execute_result"
    }
   ],
   "source": [
    "results[0].shape"
   ]
  },
  {
   "cell_type": "code",
   "execution_count": 10,
   "id": "0ae8836e-843f-4811-963f-e7e1b0fba3d3",
   "metadata": {},
   "outputs": [
    {
     "data": {
      "text/plain": [
       "(51, 1200)"
      ]
     },
     "execution_count": 10,
     "metadata": {},
     "output_type": "execute_result"
    }
   ],
   "source": [
    "# At the middle x column\n",
    "results[0][nx//2].shape"
   ]
  },
  {
   "cell_type": "code",
   "execution_count": 11,
   "id": "3430d241-9c03-4d1c-8c38-8df082654cd1",
   "metadata": {},
   "outputs": [
    {
     "data": {
      "text/plain": [
       "(1200,)"
      ]
     },
     "execution_count": 11,
     "metadata": {},
     "output_type": "execute_result"
    }
   ],
   "source": [
    "# The middle of the x, y grid\n",
    "results[0][nx//2][ny//2].shape"
   ]
  },
  {
   "cell_type": "code",
   "execution_count": 13,
   "id": "57b54bf2-86bc-47c6-90b7-69326ac7f6f8",
   "metadata": {},
   "outputs": [
    {
     "data": {
      "image/png": "[encoded data removed]",
      "text/plain": [
       "<Figure size 640x480 with 1 Axes>"
      ]
     },
     "metadata": {},
     "output_type": "display_data"
    }
   ],
   "source": [
    "import matplotlib.pyplot as plt\n",
    "plt.plot(results[0][nx//2][ny//2])\n",
    "plt.title(f\"Concentration over time at ({nx//2}, {ny//2})\")\n",
    "plt.xlabel(\"Time (t)\")\n",
    "plt.ylabel(\"Concentration\")\n",
    "plt.show()"
   ]
  }
 ],
 "metadata": {
  "kernelspec": {
   "display_name": "Python 3 (ipykernel)",
   "language": "python",
   "name": "python3"
  },
  "language_info": {
   "codemirror_mode": {
    "name": "ipython",
    "version": 3
   },
   "file_extension": ".py",
   "mimetype": "text/x-python",
   "name": "python",
   "nbconvert_exporter": "python",
   "pygments_lexer": "ipython3",
   "version": "3.10.13"
  }
 },
 "nbformat": 4,
 "nbformat_minor": 5
}
