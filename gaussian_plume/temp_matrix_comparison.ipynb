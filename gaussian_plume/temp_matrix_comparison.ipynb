{
 "cells": [
  {
   "cell_type": "code",
   "execution_count": 1,
   "id": "7ecf16cd",
   "metadata": {},
   "outputs": [],
   "source": [
    "import numpy as np"
   ]
  },
  {
   "cell_type": "code",
   "execution_count": 2,
   "id": "0bf83a93",
   "metadata": {},
   "outputs": [],
   "source": [
    "def run_simulation(nx, ny, nz, Lx, Ly, Lz, cx, cy, cz, sx, sy, sz):\n",
    "    dx, dy, dz = Lx/(nx-1), Ly/(ny-1), Lz/(nz-1)\n",
    "    x = np.linspace(-2500, 2500, nx)  # Centered at (0,0)\n",
    "    y = np.linspace(-2500, 2500, ny)\n",
    "    z = np.linspace(0, Lz, nz)\n",
    "\n",
    "    dt = 1\n",
    "    tend = 1200\n",
    "    t = 0\n",
    "\n",
    "    cfl_x, cfl_y, cfl_z = cx * dt/dx, cy * dt/dy, cz * dt/dz\n",
    "    diff_x, diff_y, diff_z = sx * dt/dx**2, sy * dt/dy**2, sz * dt/dz**2\n",
    "\n",
    "    u = np.zeros((nx+2, ny+2, nz+2))\n",
    "    sol = [u.copy()]\n",
    "\n",
    "    source_x, source_y, source_z = nx//2, ny//2, nz//5\n",
    "    Q = 1e-6\n",
    "\n",
    "    while t < tend:\n",
    "        un = sol[-1]\n",
    "        unew = un.copy()\n",
    "\n",
    "         # Advection (Upwind Scheme)\n",
    "        unew[1:-1, 1:-1, 1:-1] -= cfl_x * (un[1:-1, 1:-1, 1:-1] - un[1:-1, :-2, 1:-1])\n",
    "        unew[1:-1, 1:-1, 1:-1] -= cfl_y * (un[1:-1, 1:-1, 1:-1] - un[:-2, 1:-1, 1:-1])\n",
    "        unew[1:-1, 1:-1, 1:-1] -= cfl_z * (un[1:-1, 1:-1, 1:-1] - un[1:-1, 1:-1, :-2])\n",
    "    \n",
    "        # Diffusion (Central Differencing)\n",
    "        unew[1:-1, 1:-1, 1:-1] += diff_x * (un[1:-1, 2:, 1:-1] - 2*un[1:-1, 1:-1, 1:-1] + un[1:-1, :-2, 1:-1])\n",
    "        unew[1:-1, 1:-1, 1:-1] += diff_y * (un[2:, 1:-1, 1:-1] - 2*un[1:-1, 1:-1, 1:-1] + un[:-2, 1:-1, 1:-1])\n",
    "        unew[1:-1, 1:-1, 1:-1] += diff_z * (un[1:-1, 1:-1, 2:] - 2*un[1:-1, 1:-1, 1:-1] + un[1:-1, 1:-1, :-2])\n",
    "\n",
    "        # Source Term\n",
    "        unew[source_x, source_y, source_z] += Q * dt\n",
    "\n",
    "        # Additional Source Points (forming a small area)\n",
    "        offsets = [(-1, -1), (-1, 1), (1, -1), (1, 1), (-1, 0), (1, 0), (0, -1), (0, 1)]\n",
    "        for dx, dy in offsets:\n",
    "            unew[source_x + dx, source_y + dy, source_z] += Q * dt\n",
    "\n",
    "        sol.append(unew.copy())\n",
    "        t += dt\n",
    "\n",
    "    numerical_C = sol[-1][1:-1, 1:-1, 1:-1]  # Extract final time step\n",
    "    \n",
    "    return x, y, z, numerical_C"
   ]
  },
  {
   "cell_type": "code",
   "execution_count": 3,
   "id": "278cd1f4",
   "metadata": {},
   "outputs": [],
   "source": [
    "nx, ny, nz = 51, 51, 51  # Grid points\n",
    "Lx, Ly, Lz = 5000, 5000, 500  # Domain size in meters\n",
    "cx, cy, cz = 0, 5, 1\n",
    "sx, sy, sz = 2, 2, 0.5\n",
    "x, y, z, C = run_simulation(nx, ny, nz, Lx, Ly, Lz, cx, cy, cz, sx, sy, sz)"
   ]
  },
  {
   "cell_type": "code",
   "execution_count": 4,
   "id": "f8d69a72",
   "metadata": {},
   "outputs": [],
   "source": [
    "observed = np.load(\"test.npy\")"
   ]
  },
  {
   "cell_type": "code",
   "execution_count": 5,
   "id": "32d1ba5c",
   "metadata": {},
   "outputs": [
    {
     "data": {
      "text/plain": [
       "((51, 51, 1200), (51, 51, 51))"
      ]
     },
     "execution_count": 5,
     "metadata": {},
     "output_type": "execute_result"
    }
   ],
   "source": [
    "observed.shape, C.shape"
   ]
  },
  {
   "cell_type": "code",
   "execution_count": 13,
   "id": "a2ced331",
   "metadata": {},
   "outputs": [
    {
     "data": {
      "text/plain": [
       "((2601,), (2601,))"
      ]
     },
     "execution_count": 13,
     "metadata": {},
     "output_type": "execute_result"
    }
   ],
   "source": [
    "final_observed = observed[:,:,-1].flatten()\n",
    "sim_ground_level = C[:,:,0].flatten()\n",
    "final_observed.shape, sim_ground_level.shape"
   ]
  },
  {
   "cell_type": "markdown",
   "id": "8a55c0b5-5530-41b8-afd8-281f0a1362e9",
   "metadata": {},
   "source": [
    "We can flatten them out and compare them more efficiently.\n",
    "\n",
    "Since they both represent ground level concentration, x-y grids correspond to the same points, hence flattening it out would let us compare the same points.\n",
    "\n",
    "Now we need to figure out how to simulate a bunch of these efficiently."
   ]
  },
  {
   "cell_type": "markdown",
   "id": "4fb77b1f-24bb-4b48-abb3-c3c43407c848",
   "metadata": {},
   "source": [
    "# Simulating N samples simultaneously"
   ]
  },
  {
   "cell_type": "markdown",
   "id": "8287d97f-b7fb-4725-8239-75c9c9228746",
   "metadata": {},
   "source": [
    "Since we are only interested in ground level, we only need to store ground level data (Saves memory).\n",
    "\n",
    "We now want to modify the function so that it accepts an array of parameters "
   ]
  },
  {
   "cell_type": "code",
   "execution_count": 30,
   "id": "0c6a0399-b271-449e-8513-7406ed168daa",
   "metadata": {},
   "outputs": [],
   "source": [
    "def run_simulation(x, y, z, nx, ny, nz, Lx, Ly, Lz, cx, cy, cz, sx, sy, sz):\n",
    "    dx, dy, dz = Lx/(nx-1), Ly/(ny-1), Lz/(nz-1)\n",
    "    dt = 1\n",
    "    tend = 1200\n",
    "    t = 0\n",
    "\n",
    "    cfl_x, cfl_y, cfl_z = cx * dt/dx, cy * dt/dy, cz * dt/dz\n",
    "    diff_x, diff_y, diff_z = sx * dt/dx**2, sy * dt/dy**2, sz * dt/dz**2\n",
    "\n",
    "    u = np.zeros((nx+2, ny+2, nz+2))\n",
    "    sol = [u.copy()]\n",
    "\n",
    "    source_x, source_y, source_z = nx//2, ny//2, nz//5\n",
    "    Q = 1e-6\n",
    "\n",
    "    while t < tend:\n",
    "        un = sol[-1]\n",
    "        unew = un.copy()\n",
    "\n",
    "         # Advection (Upwind Scheme)\n",
    "        unew[1:-1, 1:-1, 1:-1] -= cfl_x * (un[1:-1, 1:-1, 1:-1] - un[1:-1, :-2, 1:-1])\n",
    "        unew[1:-1, 1:-1, 1:-1] -= cfl_y * (un[1:-1, 1:-1, 1:-1] - un[:-2, 1:-1, 1:-1])\n",
    "        unew[1:-1, 1:-1, 1:-1] -= cfl_z * (un[1:-1, 1:-1, 1:-1] - un[1:-1, 1:-1, :-2])\n",
    "    \n",
    "        # Diffusion (Central Differencing)\n",
    "        unew[1:-1, 1:-1, 1:-1] += diff_x * (un[1:-1, 2:, 1:-1] - 2*un[1:-1, 1:-1, 1:-1] + un[1:-1, :-2, 1:-1])\n",
    "        unew[1:-1, 1:-1, 1:-1] += diff_y * (un[2:, 1:-1, 1:-1] - 2*un[1:-1, 1:-1, 1:-1] + un[:-2, 1:-1, 1:-1])\n",
    "        unew[1:-1, 1:-1, 1:-1] += diff_z * (un[1:-1, 1:-1, 2:] - 2*un[1:-1, 1:-1, 1:-1] + un[1:-1, 1:-1, :-2])\n",
    "\n",
    "        # Source Term\n",
    "        unew[source_x, source_y, source_z] += Q * dt\n",
    "\n",
    "        # Additional Source Points (forming a small area)\n",
    "        offsets = [(-1, -1), (-1, 1), (1, -1), (1, 1), (-1, 0), (1, 0), (0, -1), (0, 1)]\n",
    "        for dx, dy in offsets:\n",
    "            unew[source_x + dx, source_y + dy, source_z] += Q * dt\n",
    "\n",
    "        sol.append(unew.copy())\n",
    "        t += dt\n",
    "\n",
    "    numerical_C = sol[-1][1:-1, 1:-1, 1:-1]  # Extract final time step\n",
    "    print(\"Done.\")\n",
    "    \n",
    "    return numerical_C[:,:,0].flatten() # since we only care about ground level, no need to store the full 3-D matrix"
   ]
  },
  {
   "cell_type": "code",
   "execution_count": 32,
   "id": "32ed208b-f0ad-4706-8ad6-e8427bc86911",
   "metadata": {},
   "outputs": [
    {
     "name": "stdout",
     "output_type": "stream",
     "text": [
      "Simulation took: 443.54950737953186\n"
     ]
    }
   ],
   "source": [
    "from joblib import Parallel, delayed\n",
    "import numpy as np\n",
    "import time as time\n",
    "\n",
    "nx, ny, nz = 51, 51, 51  # Grid points\n",
    "Lx, Ly, Lz = 5000, 5000, 500  # Domain size in meters\n",
    "x = np.linspace(-2500, 2500, nx)  # Centered at (0,0)\n",
    "y = np.linspace(-2500, 2500, ny)\n",
    "z = np.linspace(0, Lz, nz)\n",
    "n = 100\n",
    "cx, cy, cz = np.random.RandomState().uniform(0, 10, n), np.random.RandomState().uniform(0, 10, n), np.random.RandomState().uniform(0, 10, n)\n",
    "sx, sy, sz = np.random.RandomState().uniform(0, 5, n), np.random.RandomState().uniform(0, 5, n), np.random.RandomState().uniform(0, 5, n)\n",
    "num_cores = -1\n",
    "\n",
    "start_time = time.time()\n",
    "results = Parallel(n_jobs=num_cores)(\n",
    "    delayed(run_simulation)(x, y, z, nx, ny, nz, Lx, Ly, Lz, cx[i], cy[i], cz[i], sx[i], sy[i], sz[i])\n",
    "    for i in range(n)\n",
    ")\n",
    "end_time = time.time()\n",
    "\n",
    "print(f\"Simulation took: {end_time-start_time}\")\n",
    "\n",
    "# for i in range(n):\n",
    "#     results.append(run_simulation(nx, ny, nz, Lx, Ly, Lz, cx, cy, cz, sx, sy, sz))"
   ]
  }
 ],
 "metadata": {
  "kernelspec": {
   "display_name": "Python 3 (ipykernel)",
   "language": "python",
   "name": "python3"
  },
  "language_info": {
   "codemirror_mode": {
    "name": "ipython",
    "version": 3
   },
   "file_extension": ".py",
   "mimetype": "text/x-python",
   "name": "python",
   "nbconvert_exporter": "python",
   "pygments_lexer": "ipython3",
   "version": "3.10.13"
  }
 },
 "nbformat": 4,
 "nbformat_minor": 5
}
