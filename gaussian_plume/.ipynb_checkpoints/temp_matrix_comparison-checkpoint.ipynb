{
 "cells": [
  {
   "cell_type": "code",
   "execution_count": 1,
   "id": "7ecf16cd",
   "metadata": {},
   "outputs": [],
   "source": [
    "import numpy as np"
   ]
  },
  {
   "cell_type": "code",
   "execution_count": 2,
   "id": "0bf83a93",
   "metadata": {},
   "outputs": [],
   "source": [
    "def run_simulation(nx, ny, nz, Lx, Ly, Lz, cx, cy, cz, sx, sy, sz):\n",
    "    dx, dy, dz = Lx/(nx-1), Ly/(ny-1), Lz/(nz-1)\n",
    "    x = np.linspace(-2500, 2500, nx)  # Centered at (0,0)\n",
    "    y = np.linspace(-2500, 2500, ny)\n",
    "    z = np.linspace(0, Lz, nz)\n",
    "\n",
    "    dt = 1\n",
    "    tend = 1200\n",
    "    t = 0\n",
    "\n",
    "    cfl_x, cfl_y, cfl_z = cx * dt/dx, cy * dt/dy, cz * dt/dz\n",
    "    diff_x, diff_y, diff_z = sx * dt/dx**2, sy * dt/dy**2, sz * dt/dz**2\n",
    "\n",
    "    u = np.zeros((nx+2, ny+2, nz+2))\n",
    "    sol = [u.copy()]\n",
    "\n",
    "    source_x, source_y, source_z = nx//2, ny//2, nz//5\n",
    "    Q = 1e-6\n",
    "\n",
    "    while t < tend:\n",
    "        un = sol[-1]\n",
    "        unew = un.copy()\n",
    "\n",
    "         # Advection (Upwind Scheme)\n",
    "        unew[1:-1, 1:-1, 1:-1] -= cfl_x * (un[1:-1, 1:-1, 1:-1] - un[1:-1, :-2, 1:-1])\n",
    "        unew[1:-1, 1:-1, 1:-1] -= cfl_y * (un[1:-1, 1:-1, 1:-1] - un[:-2, 1:-1, 1:-1])\n",
    "        unew[1:-1, 1:-1, 1:-1] -= cfl_z * (un[1:-1, 1:-1, 1:-1] - un[1:-1, 1:-1, :-2])\n",
    "    \n",
    "        # Diffusion (Central Differencing)\n",
    "        unew[1:-1, 1:-1, 1:-1] += diff_x * (un[1:-1, 2:, 1:-1] - 2*un[1:-1, 1:-1, 1:-1] + un[1:-1, :-2, 1:-1])\n",
    "        unew[1:-1, 1:-1, 1:-1] += diff_y * (un[2:, 1:-1, 1:-1] - 2*un[1:-1, 1:-1, 1:-1] + un[:-2, 1:-1, 1:-1])\n",
    "        unew[1:-1, 1:-1, 1:-1] += diff_z * (un[1:-1, 1:-1, 2:] - 2*un[1:-1, 1:-1, 1:-1] + un[1:-1, 1:-1, :-2])\n",
    "\n",
    "        # Source Term\n",
    "        unew[source_x, source_y, source_z] += Q * dt\n",
    "\n",
    "        # Additional Source Points (forming a small area)\n",
    "        offsets = [(-1, -1), (-1, 1), (1, -1), (1, 1), (-1, 0), (1, 0), (0, -1), (0, 1)]\n",
    "        for dx, dy in offsets:\n",
    "            unew[source_x + dx, source_y + dy, source_z] += Q * dt\n",
    "\n",
    "        sol.append(unew.copy())\n",
    "        t += dt\n",
    "\n",
    "    numerical_C = sol[-1][1:-1, 1:-1, 1:-1]  # Extract final time step\n",
    "    \n",
    "    return x, y, z, numerical_C"
   ]
  },
  {
   "cell_type": "code",
   "execution_count": 7,
   "id": "278cd1f4",
   "metadata": {},
   "outputs": [],
   "source": [
    "nx, ny, nz = 51, 51, 51  # Grid points\n",
    "Lx, Ly, Lz = 5000, 5000, 500  # Domain size in meters\n",
    "cx, cy, cz = 0, 5, 1\n",
    "sx, sy, sz = 2, 2, 0.5\n",
    "x, y, z, C = run_simulation(nx, ny, nz, Lx, Ly, Lz, cx, cy, cz, sx, sy, sz)"
   ]
  },
  {
   "cell_type": "code",
   "execution_count": 4,
   "id": "f8d69a72",
   "metadata": {},
   "outputs": [],
   "source": [
    "observed = np.load(\"test.npy\")"
   ]
  },
  {
   "cell_type": "code",
   "execution_count": 36,
   "id": "32d1ba5c",
   "metadata": {},
   "outputs": [
    {
     "data": {
      "text/plain": [
       "((51, 51, 1200), (51, 51, 51))"
      ]
     },
     "execution_count": 36,
     "metadata": {},
     "output_type": "execute_result"
    }
   ],
   "source": [
    "observed.shape, C.shape"
   ]
  },
  {
   "cell_type": "code",
   "execution_count": 34,
   "id": "79cd0325",
   "metadata": {},
   "outputs": [
    {
     "data": {
      "text/plain": [
       "(3, 2, 3)"
      ]
     },
     "execution_count": 34,
     "metadata": {},
     "output_type": "execute_result"
    }
   ],
   "source": [
    "temp = np.array([[[0, 1, 2], [3, 4, 5]], [[6, 7, 8], [9, 10, 11]], [[12, 13, 14], [15, 16, 17]]])\n",
    "temp.shape"
   ]
  },
  {
   "cell_type": "code",
   "execution_count": null,
   "id": "a2ced331",
   "metadata": {},
   "outputs": [],
   "source": []
  }
 ],
 "metadata": {
  "kernelspec": {
   "display_name": "Python 3 (ipykernel)",
   "language": "python",
   "name": "python3"
  },
  "language_info": {
   "codemirror_mode": {
    "name": "ipython",
    "version": 3
   },
   "file_extension": ".py",
   "mimetype": "text/x-python",
   "name": "python",
   "nbconvert_exporter": "python",
   "pygments_lexer": "ipython3",
   "version": "3.10.9"
  }
 },
 "nbformat": 4,
 "nbformat_minor": 5
}
