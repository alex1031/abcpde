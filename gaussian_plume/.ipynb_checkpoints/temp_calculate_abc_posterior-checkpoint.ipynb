{
 "cells": [
  {
   "cell_type": "code",
   "execution_count": 2,
   "id": "3f42fdaf-dd2c-4d76-a41c-fbc03c97ed63",
   "metadata": {},
   "outputs": [],
   "source": [
    "import numpy as np\n",
    "import os"
   ]
  },
  {
   "cell_type": "code",
   "execution_count": 13,
   "id": "91c65d51",
   "metadata": {},
   "outputs": [],
   "source": [
    "import numpy as np\n",
    "TRUE_C = 0.5\n",
    "TRUE_S = 5e-5\n",
    "\n",
    "# Format for distance = [alpha, beta, wasserstein, energy, mmd, cvmd, kullback-leibler]\n",
    "\n",
    "def abc_posterior_data(nparams: int, distances: np.ndarray, distance_quantile: float, distance_metric: str) -> np.ndarray:\n",
    "    if distance_metric == \"Wasserstein Distance\":\n",
    "        index = 3\n",
    "    elif distance_metric == \"Cramer-von Mises Distance\":\n",
    "        index = 4\n",
    "    elif distance_metric == \"Frechet Distance\":\n",
    "        index = 5\n",
    "    elif distance_metric == \"Hausdorff Distance\":\n",
    "        index = 6\n",
    "\n",
    "    # Calculate quantile from given quantile\n",
    "    threshold = np.nanquantile(distances[:,index], distance_quantile)\n",
    "    ## Identify Alpha and Beta after filtering\n",
    "    posterior_params = distances[distances[:,index] <= threshold][:,0:nparams]\n",
    "\n",
    "    return posterior_params\n",
    "\n",
    "def abc_posterior(nparams: int, distances: np.ndarray, distance_quantile: float, distance_metric: str) -> np.ndarray:\n",
    "\n",
    "    # Calculate posterior mean, median, lower bound and upper bound for each metric\n",
    "    posterior_mean = np.zeros(nparams)\n",
    "    posterior_median = np.zeros(nparams)\n",
    "    posterior_lower_bound = np.zeros(nparams)\n",
    "    posterior_upper_bound = np.zeros(nparams)\n",
    "    posterior_std = np.zeros(nparams)\n",
    "    posterior_sqerr = np.zeros(nparams)\n",
    "\n",
    "    posterior_params = abc_posterior_data(nparams, distances, distance_quantile, distance_metric)\n",
    "    \n",
    "    for i in range(nparams):\n",
    "        posterior_mean[i] = np.mean(posterior_params[:,i])\n",
    "        posterior_median[i] = np.nanquantile(posterior_params[:,i], 0.5)\n",
    "        posterior_lower_bound[i] = np.nanquantile(posterior_params[:,i], 0.025)\n",
    "        posterior_upper_bound[i] = np.nanquantile(posterior_params[:,i], 0.975)\n",
    "        posterior_std[i] = np.std(posterior_params[:,i])\n",
    "        if i == 2: # Because the structure goes [cx, cy, s, ...]\n",
    "            posterior_sqerr[i] = (TRUE_S - posterior_median[i])**2\n",
    "        else:\n",
    "            posterior_sqerr[i] = (TRUE_C - posterior_median[i])**2\n",
    "    \n",
    "    posterior = np.array([posterior_mean, posterior_median, posterior_std, posterior_lower_bound, posterior_upper_bound, posterior_sqerr])\n",
    "    posterior = posterior.T\n",
    "\n",
    "    # Format is [[alpha posterior], [beta posterior]]\n",
    "    return posterior"
   ]
  },
  {
   "cell_type": "code",
   "execution_count": 17,
   "id": "79967796-cbd7-4945-97af-17f9f6ac4d7a",
   "metadata": {},
   "outputs": [],
   "source": [
    "RUN_DIR = \"runs\"\n",
    "SAVE_DIR = \"results\"\n",
    "NUM_RUNS = 2\n",
    "NPARAMS = 3 # cx, cy, s\n",
    "DISTANCE_METRIC = [\"Wasserstein Distance\", \"Cramer-von Mises Distance\", \"Frechet Distance\", \"Hausdorff Distance\"]\n",
    "QUANTILES = [0.05, 0.01, 0.001] # 5%, 1%, 0.1%\n",
    "\n",
    "models = os.listdir(RUN_DIR)\n",
    "\n",
    "# For each model\n",
    "for model in models:\n",
    "    \n",
    "    # We generate result for each distance metric\n",
    "    for metric in DISTANCE_METRIC:\n",
    "        metric_path = os.path.join(SAVE_DIR, metric) # e.g. results/\"Wasserstein Distance\"\n",
    "        \n",
    "        # If the path doesn't exist \n",
    "        if not os.path.isdir(metric_path):\n",
    "            os.mkdir(metric_path)\n",
    "        \n",
    "        # Separate results are needed for each quantile for threshold analysis.\n",
    "        for quantile in QUANTILES: \n",
    "            posterior = np.zeros((NUM_RUNS, NPARAMS, 6)) # 6 - Median, Mean, Lower & Upper Bound, StDev, RMSE\n",
    "            \n",
    "            # Analyse results from each run\n",
    "            for i in range(NUM_RUNS):\n",
    "                run_path = os.path.join(RUN_DIR, model, f\"run{i+1}.npy\")\n",
    "                run_data = np.load(run_path)\n",
    "                posterior[i] = abc_posterior(NPARAMS, run_data, quantile, metric)\n",
    "                \n",
    "            posterior_path = os.path.join(metric_path, f\"{quantile}posterior.npy\")\n",
    "            np.save(posterior_path, posterior)"
   ]
  },
  {
   "cell_type": "code",
   "execution_count": 20,
   "id": "be23b7fb",
   "metadata": {},
   "outputs": [
    {
     "data": {
      "text/plain": [
       "array([[[4.97319459e-01, 4.98929079e-01, 6.86247084e-02, 3.74124847e-01,\n",
       "         6.39818086e-01, 1.14687159e-06],\n",
       "        [5.02849360e-01, 4.93020679e-01, 6.07210709e-02, 3.98082143e-01,\n",
       "         6.19896817e-01, 4.87109221e-05],\n",
       "        [4.62062442e-04, 4.23059674e-04, 2.58715112e-04, 2.63754158e-05,\n",
       "         9.37241015e-04, 1.39173520e-07]],\n",
       "\n",
       "       [[4.90513752e-01, 4.87802399e-01, 6.18235671e-02, 3.86961759e-01,\n",
       "         5.86677531e-01, 1.48781467e-04],\n",
       "        [4.66328091e-01, 4.62379362e-01, 5.28740220e-02, 3.85116133e-01,\n",
       "         5.64957578e-01, 1.41531240e-03],\n",
       "        [5.34078153e-04, 5.72427732e-04, 2.72185561e-04, 5.69897229e-05,\n",
       "         9.69241892e-04, 2.72930735e-07]]])"
      ]
     },
     "execution_count": 20,
     "metadata": {},
     "output_type": "execute_result"
    }
   ],
   "source": [
    "np.load(\"results/Frechet Distance/0.05posterior.npy\")"
   ]
  }
 ],
 "metadata": {
  "kernelspec": {
   "display_name": "Python 3 (ipykernel)",
   "language": "python",
   "name": "python3"
  },
  "language_info": {
   "codemirror_mode": {
    "name": "ipython",
    "version": 3
   },
   "file_extension": ".py",
   "mimetype": "text/x-python",
   "name": "python",
   "nbconvert_exporter": "python",
   "pygments_lexer": "ipython3",
   "version": "3.10.9"
  }
 },
 "nbformat": 4,
 "nbformat_minor": 5
}
