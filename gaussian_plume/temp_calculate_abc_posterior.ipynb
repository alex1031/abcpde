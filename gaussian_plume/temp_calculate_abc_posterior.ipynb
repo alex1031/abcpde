{
 "cells": [
  {
   "cell_type": "code",
   "execution_count": 3,
   "id": "3f42fdaf-dd2c-4d76-a41c-fbc03c97ed63",
   "metadata": {},
   "outputs": [],
   "source": [
    "import numpy as np\n",
    "import os"
   ]
  },
  {
   "cell_type": "code",
   "execution_count": 4,
   "id": "79967796-cbd7-4945-97af-17f9f6ac4d7a",
   "metadata": {},
   "outputs": [
    {
     "data": {
      "text/plain": [
       "['0.025_noise', '0.05_noise', '0.075_noise', 'linear_noise', 'no_noise']"
      ]
     },
     "execution_count": 4,
     "metadata": {},
     "output_type": "execute_result"
    }
   ],
   "source": [
    "RUN_DIR = \"runs\"\n",
    "SAVE_DIR = \"results\"\n",
    "NUM_RUNS = 2\n",
    "N_PARAMS = 3 # cx, cy, s\n",
    "DISTANCE_METRIC = [\"Wasserstein Distance\", \"Cramer-von Mises Distance\", \"Frechet Distance\", \"Hausdorff Distance\"]\n",
    "\n",
    "models = os.listdir(path)\n",
    "\n",
    "for model in models:\n",
    "\n",
    "    for metric in DISTANCE_METRIC:\n",
    "\n",
    "        "
   ]
  }
 ],
 "metadata": {
  "kernelspec": {
   "display_name": "Python 3 (ipykernel)",
   "language": "python",
   "name": "python3"
  },
  "language_info": {
   "codemirror_mode": {
    "name": "ipython",
    "version": 3
   },
   "file_extension": ".py",
   "mimetype": "text/x-python",
   "name": "python",
   "nbconvert_exporter": "python",
   "pygments_lexer": "ipython3",
   "version": "3.10.13"
  }
 },
 "nbformat": 4,
 "nbformat_minor": 5
}
