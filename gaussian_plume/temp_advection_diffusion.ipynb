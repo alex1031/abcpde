{
 "cells": [
  {
   "cell_type": "code",
   "execution_count": 1,
   "id": "5ed052b2",
   "metadata": {},
   "outputs": [],
   "source": [
    "import numpy as np\n",
    "import matplotlib.pyplot as plt\n",
    "import matplotlib.animation as animation\n",
    "plt.rcParams['animation.html'] = 'html5'"
   ]
  },
  {
   "cell_type": "markdown",
   "id": "e92f1cee",
   "metadata": {},
   "source": [
    "# 2D Advection Equation"
   ]
  },
  {
   "cell_type": "code",
   "execution_count": 26,
   "id": "c92611c3-4fb0-4bff-86e9-15b784e4719d",
   "metadata": {},
   "outputs": [],
   "source": [
    "nx = 21\n",
    "ny = 21\n",
    "Lx = 1.0\n",
    "Ly = 1.0\n",
    "x = np.linspace(0, Lx, nx)\n",
    "y = np.linspace(0, Ly, ny)\n",
    "dx = Lx/(nx-1)\n",
    "dy = Ly/(ny-1)\n",
    "xx, yy = np.meshgrid(x, y)"
   ]
  },
  {
   "cell_type": "code",
   "execution_count": 27,
   "id": "e1988aaf-bd51-45de-bd80-94c0f00a7fd8",
   "metadata": {},
   "outputs": [
    {
     "data": {
      "text/plain": [
       "<matplotlib.contour.QuadContourSet at 0x23f685fc1f0>"
      ]
     },
     "execution_count": 27,
     "metadata": {},
     "output_type": "execute_result"
    },
    {
     "data": {
      "image/png": "[encoded data removed]",
      "text/plain": [
       "<Figure size 640x480 with 1 Axes>"
      ]
     },
     "metadata": {},
     "output_type": "display_data"
    }
   ],
   "source": [
    "ω0 = 2.0*np.pi\n",
    "u0 = lambda x, y: np.sin(ω0*x) * np.sin(ω0*y)\n",
    "# plotting the initial conditions\n",
    "plt.contourf(xx, yy, u0(xx, yy))"
   ]
  },
  {
   "cell_type": "code",
   "execution_count": 28,
   "id": "311ca1a4-fc17-4fa4-a4d6-83ab4ca21f01",
   "metadata": {},
   "outputs": [],
   "source": [
    "cx = 1.0\n",
    "cy = 1.0\n",
    "\n",
    "dt = 0.001\n",
    "tend = 2.0\n",
    "t = 0\n",
    "\n",
    "cflx = cx * dt/dx\n",
    "cfly = cy * dt/dy\n",
    "\n",
    "# setup initial condition\n",
    "sol = []\n",
    "u = np.zeros([nx+2, ny+2])\n",
    "u[1:-1, 1:-1] = u0(xx, yy)\n",
    "# set periodic boundaries\n",
    "\n",
    "u[:,0] = u[:,-3] #x-minus face\n",
    "u[:,-1] = u[:,2] #x-plus face\n",
    "u[0,:] = u[-3,:] #y-minus face\n",
    "u[-1,:] = u[2,:] #y-plus face\n",
    "sol.append(u)"
   ]
  },
  {
   "cell_type": "code",
   "execution_count": 29,
   "id": "5c5ce72c-b88b-49c4-be5c-35adc6804f11",
   "metadata": {},
   "outputs": [],
   "source": [
    "while t < tend:\n",
    "    un = sol[-1]\n",
    "    unew = un.copy()\n",
    "    unew[1:-1, 1:-1] = un[1:-1, 1:-1] - cflx * (un[1:-1, 1:-1] - un[1:-1, :-2]) - cfly * (un[1:-1, 1:-1] - un[:-2,1:-1])\n",
    "    unew[:,0] = unew[:,-3] #x-minus face\n",
    "    unew[:,-1] = unew[:,2] #x-plus face\n",
    "    unew[0,:] = unew[-3,:] #y-minus face\n",
    "    unew[-1,:] = unew[2,:] #y-plus face\n",
    "    unew[-1] = unew[2]\n",
    "    unew[0] = unew[-3]\n",
    "    sol.append(unew)\n",
    "    t += dt"
   ]
  },
  {
   "cell_type": "code",
   "execution_count": 14,
   "id": "70161b2b-90ee-45eb-bac7-8de85575eebc",
   "metadata": {},
   "outputs": [
    {
     "data": {
      "text/plain": [
       "<matplotlib.image.AxesImage at 0x23f646a0220>"
      ]
     },
     "execution_count": 14,
     "metadata": {},
     "output_type": "execute_result"
    },
    {
     "data": {
      "image/png": "[encoded data removed]",
      "text/plain": [
       "<Figure size 640x480 with 1 Axes>"
      ]
     },
     "metadata": {},
     "output_type": "display_data"
    }
   ],
   "source": [
    "plt.imshow(sol[1000])"
   ]
  },
  {
   "cell_type": "markdown",
   "id": "5b43f75f-1f78-4bc8-a093-2550d0ae5874",
   "metadata": {},
   "source": [
    "# Trying to make the solution look like what we have in Gaussian Plume Practical"
   ]
  },
  {
   "cell_type": "code",
   "execution_count": 34,
   "id": "c1ca0536-759c-47ec-8045-75a5431355b7",
   "metadata": {},
   "outputs": [
    {
     "ename": "TypeError",
     "evalue": "Dimensions of C (23, 23) should be one smaller than X(21) and Y(21) while using shading='flat' see help(pcolor)",
     "output_type": "error",
     "traceback": [
      "\u001b[1;31m---------------------------------------------------------------------------\u001b[0m",
      "\u001b[1;31mTypeError\u001b[0m                                 Traceback (most recent call last)",
      "Cell \u001b[1;32mIn[34], line 1\u001b[0m\n\u001b[1;32m----> 1\u001b[0m \u001b[43mplt\u001b[49m\u001b[38;5;241;43m.\u001b[39;49m\u001b[43mpcolor\u001b[49m\u001b[43m(\u001b[49m\u001b[43mx\u001b[49m\u001b[43m,\u001b[49m\u001b[43m \u001b[49m\u001b[43my\u001b[49m\u001b[43m,\u001b[49m\u001b[43m \u001b[49m\u001b[43mnp\u001b[49m\u001b[38;5;241;43m.\u001b[39;49m\u001b[43mmean\u001b[49m\u001b[43m(\u001b[49m\u001b[43msol\u001b[49m\u001b[43m,\u001b[49m\u001b[43m \u001b[49m\u001b[43maxis\u001b[49m\u001b[38;5;241;43m=\u001b[39;49m\u001b[38;5;241;43m0\u001b[39;49m\u001b[43m)\u001b[49m\u001b[43m,\u001b[49m\u001b[43m \u001b[49m\u001b[43mcmap\u001b[49m\u001b[38;5;241;43m=\u001b[39;49m\u001b[38;5;124;43m'\u001b[39;49m\u001b[38;5;124;43mjet\u001b[39;49m\u001b[38;5;124;43m'\u001b[39;49m\u001b[43m)\u001b[49m\n",
      "File \u001b[1;32m~\\anaconda3\\lib\\site-packages\\matplotlib\\pyplot.py:3452\u001b[0m, in \u001b[0;36mpcolor\u001b[1;34m(shading, alpha, norm, cmap, vmin, vmax, data, *args, **kwargs)\u001b[0m\n\u001b[0;32m   3440\u001b[0m \u001b[38;5;129m@_copy_docstring_and_deprecators\u001b[39m(Axes\u001b[38;5;241m.\u001b[39mpcolor)\n\u001b[0;32m   3441\u001b[0m \u001b[38;5;28;01mdef\u001b[39;00m \u001b[38;5;21mpcolor\u001b[39m(\n\u001b[0;32m   3442\u001b[0m     \u001b[38;5;241m*\u001b[39margs: ArrayLike,\n\u001b[1;32m   (...)\u001b[0m\n\u001b[0;32m   3450\u001b[0m     \u001b[38;5;241m*\u001b[39m\u001b[38;5;241m*\u001b[39mkwargs,\n\u001b[0;32m   3451\u001b[0m ) \u001b[38;5;241m-\u001b[39m\u001b[38;5;241m>\u001b[39m Collection:\n\u001b[1;32m-> 3452\u001b[0m     __ret \u001b[38;5;241m=\u001b[39m gca()\u001b[38;5;241m.\u001b[39mpcolor(\n\u001b[0;32m   3453\u001b[0m         \u001b[38;5;241m*\u001b[39margs,\n\u001b[0;32m   3454\u001b[0m         shading\u001b[38;5;241m=\u001b[39mshading,\n\u001b[0;32m   3455\u001b[0m         alpha\u001b[38;5;241m=\u001b[39malpha,\n\u001b[0;32m   3456\u001b[0m         norm\u001b[38;5;241m=\u001b[39mnorm,\n\u001b[0;32m   3457\u001b[0m         cmap\u001b[38;5;241m=\u001b[39mcmap,\n\u001b[0;32m   3458\u001b[0m         vmin\u001b[38;5;241m=\u001b[39mvmin,\n\u001b[0;32m   3459\u001b[0m         vmax\u001b[38;5;241m=\u001b[39mvmax,\n\u001b[0;32m   3460\u001b[0m         \u001b[38;5;241m*\u001b[39m\u001b[38;5;241m*\u001b[39m({\u001b[38;5;124m\"\u001b[39m\u001b[38;5;124mdata\u001b[39m\u001b[38;5;124m\"\u001b[39m: data} \u001b[38;5;28;01mif\u001b[39;00m data \u001b[38;5;129;01mis\u001b[39;00m \u001b[38;5;129;01mnot\u001b[39;00m \u001b[38;5;28;01mNone\u001b[39;00m \u001b[38;5;28;01melse\u001b[39;00m {}),\n\u001b[0;32m   3461\u001b[0m         \u001b[38;5;241m*\u001b[39m\u001b[38;5;241m*\u001b[39mkwargs,\n\u001b[0;32m   3462\u001b[0m     )\n\u001b[0;32m   3463\u001b[0m     sci(__ret)\n\u001b[0;32m   3464\u001b[0m     \u001b[38;5;28;01mreturn\u001b[39;00m __ret\n",
      "File \u001b[1;32m~\\anaconda3\\lib\\site-packages\\matplotlib\\__init__.py:1465\u001b[0m, in \u001b[0;36m_preprocess_data.<locals>.inner\u001b[1;34m(ax, data, *args, **kwargs)\u001b[0m\n\u001b[0;32m   1462\u001b[0m \u001b[38;5;129m@functools\u001b[39m\u001b[38;5;241m.\u001b[39mwraps(func)\n\u001b[0;32m   1463\u001b[0m \u001b[38;5;28;01mdef\u001b[39;00m \u001b[38;5;21minner\u001b[39m(ax, \u001b[38;5;241m*\u001b[39margs, data\u001b[38;5;241m=\u001b[39m\u001b[38;5;28;01mNone\u001b[39;00m, \u001b[38;5;241m*\u001b[39m\u001b[38;5;241m*\u001b[39mkwargs):\n\u001b[0;32m   1464\u001b[0m     \u001b[38;5;28;01mif\u001b[39;00m data \u001b[38;5;129;01mis\u001b[39;00m \u001b[38;5;28;01mNone\u001b[39;00m:\n\u001b[1;32m-> 1465\u001b[0m         \u001b[38;5;28;01mreturn\u001b[39;00m func(ax, \u001b[38;5;241m*\u001b[39m\u001b[38;5;28mmap\u001b[39m(sanitize_sequence, args), \u001b[38;5;241m*\u001b[39m\u001b[38;5;241m*\u001b[39mkwargs)\n\u001b[0;32m   1467\u001b[0m     bound \u001b[38;5;241m=\u001b[39m new_sig\u001b[38;5;241m.\u001b[39mbind(ax, \u001b[38;5;241m*\u001b[39margs, \u001b[38;5;241m*\u001b[39m\u001b[38;5;241m*\u001b[39mkwargs)\n\u001b[0;32m   1468\u001b[0m     auto_label \u001b[38;5;241m=\u001b[39m (bound\u001b[38;5;241m.\u001b[39marguments\u001b[38;5;241m.\u001b[39mget(label_namer)\n\u001b[0;32m   1469\u001b[0m                   \u001b[38;5;129;01mor\u001b[39;00m bound\u001b[38;5;241m.\u001b[39mkwargs\u001b[38;5;241m.\u001b[39mget(label_namer))\n",
      "File \u001b[1;32m~\\anaconda3\\lib\\site-packages\\matplotlib\\axes\\_axes.py:6028\u001b[0m, in \u001b[0;36mAxes.pcolor\u001b[1;34m(self, shading, alpha, norm, cmap, vmin, vmax, *args, **kwargs)\u001b[0m\n\u001b[0;32m   6026\u001b[0m     shading \u001b[38;5;241m=\u001b[39m mpl\u001b[38;5;241m.\u001b[39mrcParams[\u001b[38;5;124m'\u001b[39m\u001b[38;5;124mpcolor.shading\u001b[39m\u001b[38;5;124m'\u001b[39m]\n\u001b[0;32m   6027\u001b[0m shading \u001b[38;5;241m=\u001b[39m shading\u001b[38;5;241m.\u001b[39mlower()\n\u001b[1;32m-> 6028\u001b[0m X, Y, C, shading \u001b[38;5;241m=\u001b[39m \u001b[38;5;28;43mself\u001b[39;49m\u001b[38;5;241;43m.\u001b[39;49m\u001b[43m_pcolorargs\u001b[49m\u001b[43m(\u001b[49m\u001b[38;5;124;43m'\u001b[39;49m\u001b[38;5;124;43mpcolor\u001b[39;49m\u001b[38;5;124;43m'\u001b[39;49m\u001b[43m,\u001b[49m\u001b[43m \u001b[49m\u001b[38;5;241;43m*\u001b[39;49m\u001b[43margs\u001b[49m\u001b[43m,\u001b[49m\u001b[43m \u001b[49m\u001b[43mshading\u001b[49m\u001b[38;5;241;43m=\u001b[39;49m\u001b[43mshading\u001b[49m\u001b[43m,\u001b[49m\n\u001b[0;32m   6029\u001b[0m \u001b[43m                                    \u001b[49m\u001b[43mkwargs\u001b[49m\u001b[38;5;241;43m=\u001b[39;49m\u001b[43mkwargs\u001b[49m\u001b[43m)\u001b[49m\n\u001b[0;32m   6030\u001b[0m linewidths \u001b[38;5;241m=\u001b[39m (\u001b[38;5;241m0.25\u001b[39m,)\n\u001b[0;32m   6031\u001b[0m \u001b[38;5;28;01mif\u001b[39;00m \u001b[38;5;124m'\u001b[39m\u001b[38;5;124mlinewidth\u001b[39m\u001b[38;5;124m'\u001b[39m \u001b[38;5;129;01min\u001b[39;00m kwargs:\n",
      "File \u001b[1;32m~\\anaconda3\\lib\\site-packages\\matplotlib\\axes\\_axes.py:5831\u001b[0m, in \u001b[0;36mAxes._pcolorargs\u001b[1;34m(self, funcname, shading, *args, **kwargs)\u001b[0m\n\u001b[0;32m   5829\u001b[0m \u001b[38;5;28;01mif\u001b[39;00m shading \u001b[38;5;241m==\u001b[39m \u001b[38;5;124m'\u001b[39m\u001b[38;5;124mflat\u001b[39m\u001b[38;5;124m'\u001b[39m:\n\u001b[0;32m   5830\u001b[0m     \u001b[38;5;28;01mif\u001b[39;00m (Nx, Ny) \u001b[38;5;241m!=\u001b[39m (ncols \u001b[38;5;241m+\u001b[39m \u001b[38;5;241m1\u001b[39m, nrows \u001b[38;5;241m+\u001b[39m \u001b[38;5;241m1\u001b[39m):\n\u001b[1;32m-> 5831\u001b[0m         \u001b[38;5;28;01mraise\u001b[39;00m \u001b[38;5;167;01mTypeError\u001b[39;00m(\u001b[38;5;124mf\u001b[39m\u001b[38;5;124m\"\u001b[39m\u001b[38;5;124mDimensions of C \u001b[39m\u001b[38;5;132;01m{\u001b[39;00mC\u001b[38;5;241m.\u001b[39mshape\u001b[38;5;132;01m}\u001b[39;00m\u001b[38;5;124m should\u001b[39m\u001b[38;5;124m\"\u001b[39m\n\u001b[0;32m   5832\u001b[0m                         \u001b[38;5;124mf\u001b[39m\u001b[38;5;124m\"\u001b[39m\u001b[38;5;124m be one smaller than X(\u001b[39m\u001b[38;5;132;01m{\u001b[39;00mNx\u001b[38;5;132;01m}\u001b[39;00m\u001b[38;5;124m) and Y(\u001b[39m\u001b[38;5;132;01m{\u001b[39;00mNy\u001b[38;5;132;01m}\u001b[39;00m\u001b[38;5;124m)\u001b[39m\u001b[38;5;124m\"\u001b[39m\n\u001b[0;32m   5833\u001b[0m                         \u001b[38;5;124mf\u001b[39m\u001b[38;5;124m\"\u001b[39m\u001b[38;5;124m while using shading=\u001b[39m\u001b[38;5;124m'\u001b[39m\u001b[38;5;124mflat\u001b[39m\u001b[38;5;124m'\u001b[39m\u001b[38;5;124m\"\u001b[39m\n\u001b[0;32m   5834\u001b[0m                         \u001b[38;5;124mf\u001b[39m\u001b[38;5;124m\"\u001b[39m\u001b[38;5;124m see help(\u001b[39m\u001b[38;5;132;01m{\u001b[39;00mfuncname\u001b[38;5;132;01m}\u001b[39;00m\u001b[38;5;124m)\u001b[39m\u001b[38;5;124m\"\u001b[39m)\n\u001b[0;32m   5835\u001b[0m \u001b[38;5;28;01melse\u001b[39;00m:    \u001b[38;5;66;03m# ['nearest', 'gouraud']:\u001b[39;00m\n\u001b[0;32m   5836\u001b[0m     \u001b[38;5;28;01mif\u001b[39;00m (Nx, Ny) \u001b[38;5;241m!=\u001b[39m (ncols, nrows):\n",
      "\u001b[1;31mTypeError\u001b[0m: Dimensions of C (23, 23) should be one smaller than X(21) and Y(21) while using shading='flat' see help(pcolor)"
     ]
    },
    {
     "data": {
      "image/png": "[encoded data removed]",
      "text/plain": [
       "<Figure size 640x480 with 1 Axes>"
      ]
     },
     "metadata": {},
     "output_type": "display_data"
    }
   ],
   "source": [
    "plt.pcolor(x, y, np.mean(sol, axis=0), cmap='jet')"
   ]
  },
  {
   "cell_type": "code",
   "execution_count": 36,
   "id": "94d7762f-6356-48b2-9af3-fb292e91fc3c",
   "metadata": {},
   "outputs": [
    {
     "data": {
      "text/plain": [
       "array([[ 1.99116086e-17,  0.00000000e+00, -2.11183728e-17, ...,\n",
       "         1.99116086e-17,  2.03646158e-32, -2.11183728e-17],\n",
       "       [ 2.40980117e-04,  1.41417675e-19, -2.40980117e-04, ...,\n",
       "         2.40980117e-04,  4.90247939e-19, -2.40980117e-04],\n",
       "       [ 4.90184110e-04,  9.63920469e-06, -4.71849254e-04, ...,\n",
       "         4.90184110e-04,  9.63920469e-06, -4.71849254e-04],\n",
       "       ...,\n",
       "       [-2.66513495e-04, -1.05436892e-04,  6.59606095e-05, ...,\n",
       "        -2.66513495e-04, -1.05436892e-04,  6.59606095e-05],\n",
       "       [-2.67119067e-04, -1.11879956e-04,  5.43107454e-05, ...,\n",
       "        -2.67119067e-04, -1.11879956e-04,  5.43107454e-05],\n",
       "       [-2.67498154e-04, -1.18089520e-04,  4.28785386e-05, ...,\n",
       "        -2.67498154e-04, -1.18089520e-04,  4.28785386e-05]])"
      ]
     },
     "execution_count": 36,
     "metadata": {},
     "output_type": "execute_result"
    }
   ],
   "source": [
    "np.mean(sol, axis=1)"
   ]
  },
  {
   "cell_type": "code",
   "execution_count": 31,
   "id": "56064ae9-5374-4d38-bd17-4cace5fadebc",
   "metadata": {},
   "outputs": [
    {
     "data": {
      "text/plain": [
       "(2002, 23, 23)"
      ]
     },
     "execution_count": 31,
     "metadata": {},
     "output_type": "execute_result"
    }
   ],
   "source": [
    "np.array(sol).shape"
   ]
  },
  {
   "cell_type": "code",
   "execution_count": 24,
   "id": "9cc369ea-462d-499e-9be7-a2b4d44aed08",
   "metadata": {},
   "outputs": [],
   "source": [
    "dxy = 100\n",
    "x=np.mgrid[-2500:2500+dxy:dxy]\n",
    "y=x\n",
    "days = 50\n",
    "wind_dir = 0.*np.ones((days*24,1)) # What does this mean?\n",
    "sol = np.zeros((len(x), len(y), len(wind_dir)))"
   ]
  },
  {
   "cell_type": "code",
   "execution_count": 22,
   "id": "aae33b8b-521b-4c4e-8741-3d97403ddf95",
   "metadata": {},
   "outputs": [
    {
     "data": {
      "text/plain": [
       "1200"
      ]
     },
     "execution_count": 22,
     "metadata": {},
     "output_type": "execute_result"
    }
   ],
   "source": [
    "ω0 = 2.0*np.pi\n",
    "u0 = lambda x, y: np.sin(ω0*x) * np.sin(ω0*y)\n",
    "for i in range(0, len(wind_dir)):\n",
    "    u = np.zeros([nx+2, ny+2])\n",
    "    u[1:-1, 1:-1] = u0(xx, yy)"
   ]
  }
 ],
 "metadata": {
  "kernelspec": {
   "display_name": "Python 3 (ipykernel)",
   "language": "python",
   "name": "python3"
  },
  "language_info": {
   "codemirror_mode": {
    "name": "ipython",
    "version": 3
   },
   "file_extension": ".py",
   "mimetype": "text/x-python",
   "name": "python",
   "nbconvert_exporter": "python",
   "pygments_lexer": "ipython3",
   "version": "3.10.13"
  }
 },
 "nbformat": 4,
 "nbformat_minor": 5
}
