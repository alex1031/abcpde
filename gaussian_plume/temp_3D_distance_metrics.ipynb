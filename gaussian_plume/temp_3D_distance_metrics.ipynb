{
 "cells": [
  {
   "cell_type": "code",
   "execution_count": 3,
   "id": "50542637-ee2a-4b9d-ab80-b4932b2b03f8",
   "metadata": {},
   "outputs": [],
   "source": [
    "def run_simulation_2D(x, y, nx, ny, Lx, Ly, cx, cy, sx, sy):\n",
    "    dx, dy = Lx/(nx-1), Ly/(ny-1)\n",
    "    dt = 1\n",
    "    tend = 1200\n",
    "    t = 0\n",
    "\n",
    "    cfl_x, cfl_y = cx * dt/dx, cy * dt/dy\n",
    "    diff_x, diff_y = sx * dt/dx**2, sy * dt/dy**2\n",
    "\n",
    "    u = np.zeros((nx+2, ny+2))\n",
    "    sol = []\n",
    "    source_x, source_y = nx // 2, ny // 2\n",
    "    Q = 1e-6\n",
    "    \n",
    "    while t < tend:\n",
    "        unew = u.copy()\n",
    "        sol.append(u[1:-1, 1:-1])\n",
    "\n",
    "         # Advection (Upwind Scheme)\n",
    "        unew[1:-1, 1:-1] -= cfl_x * (u[1:-1, 1:-1] - u[1:-1, :-2])\n",
    "        unew[1:-1, 1:-1] -= cfl_y * (u[1:-1, 1:-1] - u[:-2, 1:-1])\n",
    "    \n",
    "        # Diffusion (Central Differencing)\n",
    "        unew[1:-1, 1:-1] += diff_x * (u[1:-1, 2:] - 2*u[1:-1, 1:-1] + u[1:-1, :-2])\n",
    "        unew[1:-1, 1:-1] += diff_y * (u[2:, 1:-1] - 2*u[1:-1, 1:-1] + u[:-2, 1:-1])\n",
    "\n",
    "        # Source Term\n",
    "        unew[source_x, source_y] += Q * dt\n",
    "\n",
    "        # Additional Source Points (forming a small area)\n",
    "        offsets = [(-1, -1), (-1, 1), (1, -1), (1, 1), (-1, 0), (1, 0), (0, -1), (0, 1)]\n",
    "        for dx, dy in offsets:\n",
    "            unew[source_x + dx, source_y + dy] += Q * dt\n",
    "\n",
    "        u = unew\n",
    "        t += dt\n",
    "\n",
    "    '''\n",
    "    We transpose the axis the solution. Such that:\n",
    "    - Axis 0: x\n",
    "    - Axis 1: y\n",
    "    - Axis 2: time\n",
    "    Interpretation: For each x-grid, we have the concentration of each y-grid over time.\n",
    "    Essentially, the (ny, 1200) array represents the concentration at each y over the time.\n",
    "    So we have an array of size 1200 for each y. (A curve)\n",
    "    '''\n",
    "    sol = np.transpose(sol, (1, 2, 0))\n",
    "    return np.array(sol)"
   ]
  },
  {
   "cell_type": "code",
   "execution_count": 4,
   "id": "561bf313-aab7-41ac-91f1-cc760d3e5df6",
   "metadata": {},
   "outputs": [
    {
     "name": "stdout",
     "output_type": "stream",
     "text": [
      "Simulation took: 2.6927080154418945\n"
     ]
    }
   ],
   "source": [
    "from joblib import Parallel, delayed\n",
    "import numpy as np\n",
    "import time as time\n",
    "\n",
    "nx, ny= 51, 51  # Grid points\n",
    "Lx, Ly = 5000, 5000  # Domain size in meters\n",
    "x = np.linspace(-2500, 2500, nx)  # Centered at (0,0)\n",
    "y = np.linspace(-2500, 2500, ny)\n",
    "n = 50\n",
    "cx, cy = np.random.RandomState().uniform(0, 10, n), np.random.RandomState().uniform(0, 10, n)\n",
    "sx, sy = np.random.RandomState().uniform(0, 1, n), np.random.RandomState().uniform(0, 1, n)\n",
    "num_cores = -1\n",
    "\n",
    "start_time = time.time()\n",
    "results = Parallel(n_jobs=num_cores)(\n",
    "    delayed(run_simulation_2D)(x, y, nx, ny, Lx, Ly, cx[i], cy[i], sx[i], sy[i])\n",
    "    for i in range(n)\n",
    ")\n",
    "end_time = time.time()\n",
    "\n",
    "print(f\"Simulation took: {end_time-start_time}\")"
   ]
  },
  {
   "cell_type": "markdown",
   "id": "5b0260ac-bc27-4a0d-88e1-1832d7c90a1d",
   "metadata": {},
   "source": [
    "## Applying Distance Metrics"
   ]
  },
  {
   "cell_type": "markdown",
   "id": "11775bd9-8afa-4372-82e0-937d8d145434",
   "metadata": {},
   "source": [
    "We try to implement the same way as we have for the 1D problem, and adjust if there are any issues.\n",
    "\n",
    "Because the shape of the results would be in 4D (n, Nx, Ny, time), it would be infeasible to try and solve everything all at once.\n",
    "\n",
    "However, parallelisation can still be utilised."
   ]
  },
  {
   "cell_type": "markdown",
   "id": "b940854b-7f39-47b1-be32-4651b2bb5c87",
   "metadata": {},
   "source": [
    "The distances should be modified such that it computes the distance **for each spatial location** across time first (outputting a 51x51 matrix), with each (i, j) representating the distance at that point, and then output an average (?).\n",
    "\n",
    "The original distance metrics were desgined so that it computes the distance between each column.\n",
    "- This is because each column represented one solution."
   ]
  },
  {
   "cell_type": "code",
   "execution_count": 5,
   "id": "71176d98-5f31-40cc-bd8c-44b9351f6280",
   "metadata": {},
   "outputs": [
    {
     "data": {
      "text/plain": [
       "(51, 51, 1200)"
      ]
     },
     "execution_count": 5,
     "metadata": {},
     "output_type": "execute_result"
    }
   ],
   "source": [
    "import numpy as np\n",
    "observed = np.load(\"test.npy\")\n",
    "observed.shape"
   ]
  },
  {
   "cell_type": "markdown",
   "id": "67e7c2eb-c796-4b8f-89b7-6bcbc17e5245",
   "metadata": {},
   "source": [
    "### Wasserstein"
   ]
  },
  {
   "cell_type": "code",
   "execution_count": 9,
   "id": "41a38f53-9a4f-44fb-b9f1-7ba163dd025a",
   "metadata": {},
   "outputs": [],
   "source": [
    "### Original ###\n",
    "def wasserstein_distance(simulated_sample: np.ndarray, observed_sample: np.ndarray) -> float:\n",
    "    # Mean Difference between simulated and observed\n",
    "    simulated_sorted = np.sort(simulated_sample, axis=0)\n",
    "    observed_sorted = np.sort(observed_sample, axis=0)\n",
    "    distance = np.mean(np.abs(simulated_sorted - observed_sorted), axis=0)\n",
    "\n",
    "    return distance\n",
    "\n",
    "### Modified ###\n",
    "def wasserstein_distance_3D(simulated_sample: np.ndarray, observed_sample: np.ndarray) -> np.ndarray:\n",
    "    \"\"\"\n",
    "    Compute the Wasserstein distance between two (51, 51, 1200) shaped arrays \n",
    "    along the time dimension.\n",
    "\n",
    "    Sorted along the time axis, we now have a (51, 51, 1200) array, with each 1200-sized array sorted ascendingly \n",
    "\n",
    "    Returns a (51, 51) array of distances for each spatial location.\n",
    "    \"\"\"\n",
    "    # Sort along the time axis (axis=2)\n",
    "    simulated_sorted = np.sort(simulated_sample, axis=2)\n",
    "    observed_sorted = np.sort(observed_sample, axis=2)\n",
    "\n",
    "    # Compute the mean absolute difference along the time axis\n",
    "    distance = np.mean(np.abs(simulated_sorted - observed_sorted), axis=2)\n",
    "\n",
    "    return distance "
   ]
  },
  {
   "cell_type": "code",
   "execution_count": 17,
   "id": "9aab4ec6-a642-47a0-9b05-f0aa3d5831eb",
   "metadata": {},
   "outputs": [
    {
     "data": {
      "text/plain": [
       "1.4817471504211426"
      ]
     },
     "execution_count": 17,
     "metadata": {},
     "output_type": "execute_result"
    }
   ],
   "source": [
    "start = time.time()\n",
    "wass = Parallel(n_jobs=num_cores)(\n",
    "    delayed(wasserstein_distance_3D)(results[i], observed)\n",
    "    for i in range(n)\n",
    ")\n",
    "end = time.time()\n",
    "end-start"
   ]
  },
  {
   "cell_type": "markdown",
   "id": "3484324f-63ff-4e86-8c5f-406186a7890b",
   "metadata": {},
   "source": [
    "### CvMD"
   ]
  },
  {
   "cell_type": "code",
   "execution_count": 28,
   "id": "d7b6d26c-8a79-43eb-89bd-86ef2aafa08b",
   "metadata": {},
   "outputs": [],
   "source": [
    "### Original ###\n",
    "def cramer_von_mises(simulated_sample: np.ndarray, observed_sample: np.ndarray) -> float:\n",
    "    if len(simulated_sample) != len(observed_sample):\n",
    "        return \"Size of samples not equal.\"\n",
    "    \n",
    "    nrow = simulated_sample.shape[0]\n",
    "    ncol = simulated_sample.shape[1]\n",
    "    combined = np.concatenate((simulated_sample, observed_sample))\n",
    "    # Find corresponding ranks in h associated with simulated/observed\n",
    "    combined_rank = np.argsort(combined, axis=0)+1\n",
    "    simulated_rank = combined_rank[:nrow]\n",
    "    observed_rank = combined_rank[nrow:]\n",
    "\n",
    "    # Calculate distance\n",
    "    idx = np.tile(np.arange(1, nrow+1), (ncol, 1)).T\n",
    "    observed_sum = np.sum((observed_rank - idx)**2, axis=0)\n",
    "    simulated_sum = np.sum((simulated_rank - idx)**2, axis=0)\n",
    "    rank_sum = nrow * (observed_sum + simulated_sum)\n",
    "    distance = rank_sum / (2*nrow**3) - (4*nrow**2 - 1)/(12*nrow)\n",
    "\n",
    "    return distance\n",
    "\n",
    "### Modified ###\n",
    "def cramer_von_mises_3d(simulated_sample: np.ndarray, observed_sample: np.ndarray) -> np.ndarray:\n",
    "    '''\n",
    "    Outputs a (51, 51), representing CvMD at each grid point.\n",
    "    '''\n",
    "    if simulated_sample.shape != observed_sample.shape:\n",
    "        raise ValueError(\"Shape of samples not equal.\")\n",
    "    \n",
    "    x_dim, y_dim, n_samples = simulated_sample.shape\n",
    "    cvm_matrix = np.zeros((x_dim, y_dim))\n",
    "\n",
    "    # Comparing the (1200,)-shaped array for each (x, y) grid point\n",
    "    for i in range(x_dim):\n",
    "        for j in range(y_dim):\n",
    "            sim = simulated_sample[i, j, :]\n",
    "            obs = observed_sample[i, j, :]\n",
    "\n",
    "            # Combining the two arrays. (2400,)-shaped array\n",
    "            combined = np.concatenate((sim, obs))\n",
    "            # np.argsort(combined) gives us indicies that would sort the combined array in ascending order.\n",
    "            # applying np.argosrt again gives us the rank of each element in the original array.\n",
    "            combined_rank = np.argsort(np.argsort(combined)) + 1\n",
    "\n",
    "            # First half of the combined rank is simulated by definition of combined.\n",
    "            sim_rank = combined_rank[:n_samples]\n",
    "            obs_rank = combined_rank[n_samples:]\n",
    "\n",
    "            # Calculation for CvMD\n",
    "            idx = np.arange(1, n_samples + 1)\n",
    "            obs_sum = np.sum((obs_rank - idx) ** 2)\n",
    "            sim_sum = np.sum((sim_rank - idx) ** 2)\n",
    "            \n",
    "            rank_sum = n_samples * (obs_sum + sim_sum)\n",
    "            distance = rank_sum / (2 * n_samples**3) - (4 * n_samples**2 - 1) / (12 * n_samples)\n",
    "            \n",
    "            cvm_matrix[i, j] = distance\n",
    "    \n",
    "    return cvm_matrix"
   ]
  },
  {
   "cell_type": "code",
   "execution_count": 29,
   "id": "3adaea11-23db-4a62-9b47-d6ea25784bc6",
   "metadata": {},
   "outputs": [
    {
     "data": {
      "text/plain": [
       "2.9667017459869385"
      ]
     },
     "execution_count": 29,
     "metadata": {},
     "output_type": "execute_result"
    }
   ],
   "source": [
    "start = time.time()\n",
    "cvmd = Parallel(n_jobs=num_cores)(\n",
    "    delayed(cramer_von_mises_3d)(results[i], observed)\n",
    "    for i in range(n)\n",
    ")\n",
    "end = time.time()\n",
    "end-start"
   ]
  }
 ],
 "metadata": {
  "kernelspec": {
   "display_name": "Python 3 (ipykernel)",
   "language": "python",
   "name": "python3"
  },
  "language_info": {
   "codemirror_mode": {
    "name": "ipython",
    "version": 3
   },
   "file_extension": ".py",
   "mimetype": "text/x-python",
   "name": "python",
   "nbconvert_exporter": "python",
   "pygments_lexer": "ipython3",
   "version": "3.10.13"
  }
 },
 "nbformat": 4,
 "nbformat_minor": 5
}
