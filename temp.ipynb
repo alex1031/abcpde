{
 "cells": [
  {
   "cell_type": "code",
   "execution_count": 1,
   "metadata": {},
   "outputs": [],
   "source": [
    "import numpy as np\n",
    "from scipy.integrate import odeint"
   ]
  },
  {
   "cell_type": "code",
   "execution_count": 2,
   "metadata": {},
   "outputs": [],
   "source": [
    "def dUdt(U, t, a, b):\n",
    "        x = U[:len(a)]\n",
    "        y = U[len(a):]\n",
    "\n",
    "        dxdt = a*x - x*y\n",
    "        dydt = b*x*y - y\n",
    "\n",
    "        return np.concatenate([dxdt, dydt])"
   ]
  },
  {
   "cell_type": "code",
   "execution_count": 3,
   "metadata": {},
   "outputs": [],
   "source": [
    "a = np.random.uniform(-10, 10, 1000)\n",
    "b = np.random.uniform(-10, 10, 1000)\n",
    "x0, y0 = np.array([0.5] * 1000), np.array([0.5] * 1000)\n",
    "S0 = np.concatenate([x0, y0])\n",
    "tspan = np.linspace(0, 10, 100)\n",
    "sol = odeint(dUdt, S0, tspan, args=(a, b))"
   ]
  },
  {
   "cell_type": "code",
   "execution_count": 4,
   "metadata": {},
   "outputs": [],
   "source": [
    "x_sol = sol[:, :len(a)] # Prey\n",
    "y_sol = sol[:, len(a):] # Predator"
   ]
  },
  {
   "cell_type": "code",
   "execution_count": 5,
   "metadata": {},
   "outputs": [],
   "source": [
    "import numpy as np \n",
    "from scipy.stats import rankdata\n",
    "from scipy.spatial.distance import pdist, squareform, cdist\n",
    "\n",
    "def wasserstein_distance(simulated_sample: np.ndarray, observed_sample: np.ndarray) -> float:\n",
    "    # Mean Difference between simulated and observed\n",
    "    distance = np.mean(np.abs(simulated_sample - observed_sample), axis=0)\n",
    "    return distance\n",
    "\n",
    "def maximum_mean_discrepancy(simulated_sample: np.ndarray, observed_sample: np.ndarray, gamma = 1.0) -> float:\n",
    "    nrow = simulated_sample.shape[0]\n",
    "    ncol = simulated_sample.shape[1]\n",
    "    distances_XX = np.zeros((ncol, nrow, nrow))  # Distances within simulated_sample\n",
    "    distances_YY = np.zeros((ncol, nrow, nrow))  # Distances within observed_sample\n",
    "    distances_XY = np.zeros((ncol, nrow, nrow))  # Distances between simulated_sample and observed_sample\n",
    "\n",
    "    for i in range(ncol):\n",
    "        distances_XX[i] = squareform(pdist(simulated_sample[:, i, np.newaxis], metric='euclidean'))\n",
    "        distances_YY[i] = squareform(pdist(observed_sample[:, i, np.newaxis], metric='euclidean'))\n",
    "        distances_XY[i] = cdist(simulated_sample[:, i, np.newaxis], observed_sample[:, i, np.newaxis], metric='euclidean')\n",
    "\n",
    "    # Gaussian kernel\n",
    "    KXX = np.exp(-distances_XX ** 2 / (2 * gamma ** 2))\n",
    "    KYY = np.exp(-distances_YY ** 2 / (2 * gamma ** 2))\n",
    "    KXY = np.exp(-distances_XY ** 2 / (2 * gamma ** 2))\n",
    "\n",
    "    mean_KXX = np.mean(KXX, axis=(1, 2))  # Mean of kernel within simulated_sample\n",
    "    mean_KYY = np.mean(KYY, axis=(1, 2))  # Mean of kernel within observed_sample\n",
    "    mean_KXY = np.mean(KXY, axis=(1, 2))  # Mean of kernel between simulated_sample and observed_sample\n",
    "\n",
    "    # MMD vectorized for each column\n",
    "    mmd_values = mean_KXX + mean_KYY - 2 * mean_KXY\n",
    "\n",
    "    return mmd_values\n",
    "\n",
    "def cramer_von_mises(simulated_sample: np.ndarray, observed_sample: np.ndarray) -> float:\n",
    "    if len(simulated_sample) != len(observed_sample):\n",
    "        return \"Size of samples not equal.\"\n",
    "    \n",
    "    nrow = simulated_sample.shape[0]\n",
    "    ncol = simulated_sample.shape[1]\n",
    "    combined = np.concatenate((simulated_sample, observed_sample))\n",
    "    # Find corresponding ranks in h associated with simulated/observed\n",
    "    combined_rank = rankdata(combined, axis=0)\n",
    "    simulated_rank = combined_rank[:nrow]\n",
    "    observed_rank = combined_rank[nrow:]\n",
    "\n",
    "    # Calculate distance\n",
    "    idx = np.tile(np.arange(1, nrow+1), (ncol, 1)).T\n",
    "    observed_sum = np.sum((observed_rank - idx)**2, axis=0)\n",
    "    simulated_sum = np.sum((simulated_rank - idx)**2, axis=0)\n",
    "    rank_sum = nrow * (observed_sum + simulated_sum)\n",
    "    distance = rank_sum / (2*nrow**3) - (4*nrow**2 - 1)/(12*nrow)\n",
    "    return distance\n",
    "\n",
    "def energy_dist(simulated_sample: np.ndarray, observed_sample: np.ndarray) -> float:\n",
    "    nrow = simulated_sample.shape[0]\n",
    "    ncol = simulated_sample.shape[1]\n",
    "    distances_XX = np.zeros((ncol, nrow, nrow))  # Distances within array1\n",
    "    distances_YY = np.zeros((ncol, nrow, nrow))  # Distances within array2\n",
    "    distances_XY = np.zeros((ncol, nrow, nrow))  # Distances between array1 and array2\n",
    "\n",
    "    for i in range(ncol):\n",
    "        distances_XX[i] = squareform(pdist(simulated_sample[:, i, np.newaxis], metric='euclidean'))\n",
    "        distances_YY[i] = squareform(pdist(observed_sample[:, i, np.newaxis], metric='euclidean'))\n",
    "        distances_XY[i] = cdist(simulated_sample[:, i, np.newaxis], observed_sample[:, i, np.newaxis], metric='euclidean')\n",
    "\n",
    "    mean_dist_XY = np.mean(distances_XY, axis=(1, 2))  # Mean distance between columns\n",
    "    mean_dist_XX = np.mean(distances_XX, axis=(1, 2))  # Mean distance within array1\n",
    "    mean_dist_YY = np.mean(distances_YY, axis=(1, 2))  # Mean distance within array2\n",
    "\n",
    "    # Calculate the energy distances for each column in a vectorized way\n",
    "    energy_distances = 2 * mean_dist_XY - mean_dist_XX - mean_dist_YY\n",
    "\n",
    "    # Output the energy distances for each column\n",
    "    return energy_distances\n",
    "\n",
    "def kullback_leibler_divergence(simulated_sample: np.ndarray, observed_sample: np.ndarray) -> float:\n",
    "    nrow = simulated_sample.shape[0]\n",
    "    ncol = simulated_sample.shape[1]\n",
    "    distances_XX = np.zeros((ncol, nrow, nrow))\n",
    "    distances_XY = np.zeros((ncol, nrow, nrow))\n",
    "    \n",
    "    # ln(n/(n-1))\n",
    "    log_term = np.log(nrow/(nrow-1))\n",
    "    for i in range(ncol):\n",
    "        # pairwise distance\n",
    "        distances_XX[i] = squareform(pdist(simulated_sample[:,i, np.newaxis], metric=\"euclidean\"))\n",
    "        # pairwise distance between Z and Y\n",
    "        distances_XY[i] = cdist(simulated_sample[:,i, np.newaxis], observed_sample[:,i, np.newaxis], metric=\"euclidean\")\n",
    "    \n",
    "    # min_(j!=i)|z_i-z_j|\n",
    "    XXflat = distances_XX.reshape(ncol, -1)\n",
    "    XXflat_nonzero = np.where(XXflat_nonzero==0, np.inf, XXflat)\n",
    "    nonzero_min_XX = np.min(XXflat_nonzero, axis=1)\n",
    "\n",
    "    # min_j|z_i-y_j|\n",
    "    XYflat = distances_XY.reshape(ncol,-1)\n",
    "    XYflat_nozero = np.where(XYflat==0, np.inf, XYflat)\n",
    "    nonzero_min_XY = np.min(XYflat_nozero, axis=1)\n",
    "\n",
    "    kld = np.log(nonzero_min_XY/nonzero_min_XX)/nrow + log_term\n",
    "    return kld\n",
    "\n"
   ]
  },
  {
   "cell_type": "code",
   "execution_count": 11,
   "metadata": {},
   "outputs": [
    {
     "data": {
      "text/plain": [
       "(100, 2000)"
      ]
     },
     "execution_count": 11,
     "metadata": {},
     "output_type": "execute_result"
    }
   ],
   "source": [
    "observed = odeint(dUdt, (0.5, 0.5), tspan, args=([1], [1]))\n",
    "x_observed = observed[:, 0]\n",
    "y_observed = observed[:, 1]\n",
    "\n",
    "x_obs_mod = np.tile(x_observed, (1000, 1)).T\n",
    "y_obs_mod = np.tile(y_observed, (1000, 1)).T\n",
    "\n",
    "observed_broadcasted = np.concatenate((x_obs_mod, y_obs_mod), axis=1)\n",
    "observed_broadcasted.shape"
   ]
  },
  {
   "cell_type": "code",
   "execution_count": 16,
   "metadata": {},
   "outputs": [
    {
     "data": {
      "text/plain": [
       "array([[ 1.81327621, -3.94954392,  5.40663658],\n",
       "       [-5.61575557,  3.63349443, -9.33318115],\n",
       "       [ 8.18372317, -2.82005865, -0.8874055 ],\n",
       "       [-8.70127789, -3.67193285, -6.93140077],\n",
       "       [-2.26338908,  9.34350897, -5.16370004],\n",
       "       [-0.12763029, -5.78166623, -0.38516065],\n",
       "       [-2.09776669, -9.97312354, -0.31627422],\n",
       "       [ 1.66915984, -8.28521273, -8.15189083],\n",
       "       [-2.89228577,  8.62348267,  7.30871167],\n",
       "       [-8.66612045, -0.28676363, -2.85842463]])"
      ]
     },
     "execution_count": 16,
     "metadata": {},
     "output_type": "execute_result"
    }
   ],
   "source": [
    "tempx = np.array([[0.5, 0.5, 0.5, 0.5], [1, 0.7, 0.55, 0.56], [2, 0.9, 0.6, 0.61]])\n",
    "tempy = np.array([[0.5, 0.5, 0.5, 0.5], [2, 2, 2, 2], [8, 8, 8, 8]])\n",
    "\n",
    "tempa = np.random.uniform(-10, 10, 10)\n",
    "tempb = np.random.uniform(-10, 10, 10)\n",
    "tempc = np.random.uniform(-10, 10, 10)\n",
    "np.column_stack((tempa, tempb, tempc))"
   ]
  },
  {
   "cell_type": "code",
   "execution_count": 17,
   "metadata": {},
   "outputs": [
    {
     "data": {
      "text/plain": [
       "array([ 1.81327621, -5.61575557,  8.18372317, -8.70127789, -2.26338908,\n",
       "       -0.12763029, -2.09776669,  1.66915984, -2.89228577, -8.66612045])"
      ]
     },
     "execution_count": 17,
     "metadata": {},
     "output_type": "execute_result"
    }
   ],
   "source": [
    "tempa"
   ]
  },
  {
   "cell_type": "code",
   "execution_count": 7,
   "metadata": {},
   "outputs": [
    {
     "data": {
      "text/plain": [
       "(0.3662047773731969, 1.5979569569922393e+41)"
      ]
     },
     "execution_count": 7,
     "metadata": {},
     "output_type": "execute_result"
    }
   ],
   "source": [
    "temp = wasserstein_distance(x_sol, x_obs_mod)\n",
    "min(temp), max(temp)"
   ]
  },
  {
   "cell_type": "code",
   "execution_count": null,
   "metadata": {},
   "outputs": [],
   "source": [
    "# Kullback-Leibler Divergence\n",
    "# nrow = tempx.shape[0]\n",
    "# ncol = tempx.shape[1]\n",
    "# distances_xx = np.zeros((ncol, 3, 3))\n",
    "# distances_xy = np.zeros((ncol, 3, 3))\n",
    "\n",
    "# log_term = np.log(nrow/(nrow-1))\n",
    "\n",
    "# for i in range(ncol):\n",
    "#     distances_xx[i] = squareform(pdist(tempx[:,i, np.newaxis], metric=\"euclidean\"))\n",
    "#     distances_xy[i] = cdist(tempx[:,i, np.newaxis], tempy[:,i, np.newaxis], metric=\"euclidean\")\n",
    "\n",
    "# xflat = distances_xx.reshape(ncol,-1)\n",
    "# xflat_nozero = np.where(xflat==0, np.inf, xflat)\n",
    "# non_zero_min = np.min(xflat_nozero, axis=1)\n",
    "\n",
    "# xyflat = distances_xy.reshape(ncol,-1)\n",
    "# xyflat_nozero = np.where(xyflat==0, np.inf, xyflat)\n",
    "# non_zero_min_xy = np.min(xyflat_nozero, axis=1)\n",
    "\n",
    "# np.log(non_zero_min_xy/non_zero_min)/nrow + log_term"
   ]
  },
  {
   "cell_type": "code",
   "execution_count": null,
   "metadata": {},
   "outputs": [],
   "source": [
    "# Cramer-von Mises Distance\n",
    "\n",
    "# # combine simulated and observed\n",
    "# tempcomb = np.concatenate((tempx, tempy))\n",
    "\n",
    "# # Find corresponding ranks in h associated with simulated/observed\n",
    "# combrank = rankdata(tempcomb, axis=0)\n",
    "# simrank = combrank[:len(tempx)]\n",
    "# obsrank = combrank[len(tempx):]\n",
    "\n",
    "# # Calculate distance\n",
    "# obs_idx = np.tile(np.arange(1, len(tempy)+1), (len(tempy[0]), 1)).T\n",
    "# sim_idx = np.tile(np.arange(1, len(tempx)+1), (len(tempy[0]), 1)).T\n",
    "# obs_sum = np.sum((obsrank - obs_idx)**2, axis=0)\n",
    "# sim_sum = np.sum((simrank - sim_idx)**2, axis=0)\n",
    "# rank_sum = len(tempx)*(obs_sum + sim_sum)\n",
    "# distance = rank_sum / 2*(len(tempx) ** 4) - (4*(len(tempx) **2)-1)/(12*len(tempx))\n",
    "# np.sort(simrank, axis=0)"
   ]
  }
 ],
 "metadata": {
  "kernelspec": {
   "display_name": "Python 3 (ipykernel)",
   "language": "python",
   "name": "python3"
  },
  "language_info": {
   "codemirror_mode": {
    "name": "ipython",
    "version": 3
   },
   "file_extension": ".py",
   "mimetype": "text/x-python",
   "name": "python",
   "nbconvert_exporter": "python",
   "pygments_lexer": "ipython3",
   "version": "3.8.8"
  }
 },
 "nbformat": 4,
 "nbformat_minor": 4
}
