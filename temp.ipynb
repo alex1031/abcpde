{
 "cells": [
  {
   "cell_type": "code",
   "execution_count": 22,
   "metadata": {},
   "outputs": [],
   "source": [
    "import numpy as np\n",
    "from scipy.integrate import solve_ivp, odeint"
   ]
  },
  {
   "cell_type": "code",
   "execution_count": 23,
   "metadata": {},
   "outputs": [],
   "source": [
    "def dUdt(U, t, a, b):\n",
    "        x = U[:len(a)]\n",
    "        y = U[len(a):]\n",
    "\n",
    "        dxdt = a*x - x*y\n",
    "        dydt = b*x*y - y\n",
    "\n",
    "        return np.concatenate([dxdt, dydt])"
   ]
  },
  {
   "cell_type": "code",
   "execution_count": 24,
   "metadata": {},
   "outputs": [],
   "source": [
    "a = np.random.uniform(-10, 10, 1000)\n",
    "b = np.random.uniform(-10, 10, 1000)\n",
    "x0, y0 = np.array([0.5] * 1000), np.array([0.5] * 1000)\n",
    "S0 = np.concatenate([x0, y0])\n",
    "tspan = np.linspace(0, 10, 100)"
   ]
  },
  {
   "cell_type": "code",
   "execution_count": 25,
   "metadata": {},
   "outputs": [],
   "source": [
    "sol = odeint(dUdt, S0, tspan, args=(a, b))"
   ]
  },
  {
   "cell_type": "code",
   "execution_count": 120,
   "metadata": {},
   "outputs": [],
   "source": [
    "import numpy as np \n",
    "from sklearn import metrics\n",
    "from scipy.stats import energy_distance, cramervonmises_2samp\n",
    "from scipy.special import kl_div\n",
    "from scipy.spatial.distance import pdist, squareform, cdist\n",
    "\n",
    "def wasserstein_distance(simulated_sample: np.ndarray, observed_sample: np.ndarray) -> float:\n",
    "    # Mean Difference between simulated and observed\n",
    "    distance = np.mean(np.abs(simulated_sample - observed_sample))\n",
    "    return distance\n",
    "\n",
    "def maximum_mean_discrepancy(simulated_sample: np.ndarray, observed_sample: np.ndarray, gamma = 1.0) -> float:\n",
    "    n = simulated_sample.shape[1]\n",
    "    distances_XX = np.zeros((n, 100, 100))  # Distances within simulated_sample\n",
    "    distances_YY = np.zeros((n, 100, 100))  # Distances within observed_sample\n",
    "    distances_XY = np.zeros((n, 100, 100))  # Distances between simulated_sample and observed_sample\n",
    "\n",
    "    for i in range(n):\n",
    "        distances_XX[i] = squareform(pdist(simulated_sample[:, i, np.newaxis], metric='euclidean'))\n",
    "        distances_YY[i] = squareform(pdist(observed_sample[:, i, np.newaxis], metric='euclidean'))\n",
    "        distances_XY[i] = cdist(simulated_sample[:, i, np.newaxis], observed_sample[:, i, np.newaxis], metric='euclidean')\n",
    "\n",
    "    # Gaussian kernel\n",
    "    KXX = np.exp(-distances_XX ** 2 / (2 * gamma ** 2))\n",
    "    KYY = np.exp(-distances_YY ** 2 / (2 * gamma ** 2))\n",
    "    KXY = np.exp(-distances_XY ** 2 / (2 * gamma ** 2))\n",
    "\n",
    "    mean_KXX = np.mean(KXX, axis=(1, 2))  # Mean of kernel within simulated_sample\n",
    "    mean_KYY = np.mean(KYY, axis=(1, 2))  # Mean of kernel within observed_sample\n",
    "    mean_KXY = np.mean(KXY, axis=(1, 2))  # Mean of kernel between simulated_sample and observed_sample\n",
    "\n",
    "    # MMD vectorized for each column\n",
    "    mmd_values = mean_KXX + mean_KYY - 2 * mean_KXY\n",
    "\n",
    "    return mmd_values\n",
    "\n",
    "def cramer_von_mises(simulated_sample: np.ndarray, observed_sample: np.ndarray) -> float:\n",
    "    return cramervonmises_2samp(simulated_sample, observed_sample).statistic\n",
    "\n",
    "def energy_dist(simulated_sample: np.ndarray, observed_sample: np.ndarray) -> float:\n",
    "    n = simulated_sample.shape[1]\n",
    "    distances_XX = np.zeros((n, 100, 100))  # Distances within array1\n",
    "    distances_YY = np.zeros((n, 100, 100))  # Distances within array2\n",
    "    distances_XY = np.zeros((n, 100, 100))  # Distances between array1 and array2\n",
    "\n",
    "    for i in range(n):\n",
    "        distances_XX[i] = squareform(pdist(simulated_sample[:, i, np.newaxis], metric='euclidean'))\n",
    "        distances_YY[i] = squareform(pdist(observed_sample[:, i, np.newaxis], metric='euclidean'))\n",
    "        distances_XY[i] = cdist(simulated_sample[:, i, np.newaxis], observed_sample[:, i, np.newaxis], metric='euclidean')\n",
    "\n",
    "    mean_dist_XY = np.mean(distances_XY, axis=(1, 2))  # Mean distance between columns\n",
    "    mean_dist_XX = np.mean(distances_XX, axis=(1, 2))  # Mean distance within array1\n",
    "    mean_dist_YY = np.mean(distances_YY, axis=(1, 2))  # Mean distance within array2\n",
    "\n",
    "    # Calculate the energy distances for each column in a vectorized way\n",
    "    energy_distances = 2 * mean_dist_XY - mean_dist_XX - mean_dist_YY\n",
    "\n",
    "    # Output the energy distances for each column\n",
    "    return energy_distances\n",
    "\n",
    "def kullback_leibler_divergence(simulated_sample: np.ndarray, observed_sample: np.ndarray) -> float:\n",
    "    # Sum of the divergence of each point\n",
    "    return sum(kl_div(simulated_sample, observed_sample))"
   ]
  },
  {
   "cell_type": "code",
   "execution_count": 116,
   "metadata": {},
   "outputs": [
    {
     "data": {
      "text/plain": [
       "array([1.33333333, 2.22222222, 3.33333333])"
      ]
     },
     "execution_count": 116,
     "metadata": {},
     "output_type": "execute_result"
    }
   ],
   "source": [
    "tempx = np.array([[0, 1, 2], [3, 4, 5], [2, 4, 6]])\n",
    "tempy = np.array([[0, 0, 0], [1, 1, 1], [2, 2, 2]])\n",
    "\n",
    "p = np.zeros((tempx.shape[1], 3, 3))\n",
    "\n",
    "for i in range(tempx.shape[1]):\n",
    "    p[i] = cdist(tempx[:,i, np.newaxis], tempy[:,i, np.newaxis])\n",
    "\n",
    "np.mean(p, axis=(1, 2))"
   ]
  },
  {
   "cell_type": "code",
   "execution_count": 27,
   "metadata": {},
   "outputs": [],
   "source": [
    "x_sol = sol[:, :len(a)] # Prey\n",
    "y_sol = sol[:, len(a):] # Predator"
   ]
  },
  {
   "cell_type": "code",
   "execution_count": 28,
   "metadata": {},
   "outputs": [],
   "source": [
    "observed = odeint(dUdt, (0.5, 0.5), tspan, args=([1], [1]))"
   ]
  },
  {
   "cell_type": "code",
   "execution_count": 29,
   "metadata": {},
   "outputs": [],
   "source": [
    "x_observed = observed[:, 0]\n",
    "x_obs_mod = np.tile(x_observed, (1000, 1)).T\n",
    "y_observed = observed[:, 1]\n",
    "y_obs_mod = np.tile(y_observed, (1000, 1)).T"
   ]
  },
  {
   "cell_type": "code",
   "execution_count": 121,
   "metadata": {},
   "outputs": [],
   "source": [
    "temp = maximum_mean_discrepancy(x_sol, x_obs_mod)"
   ]
  },
  {
   "cell_type": "code",
   "execution_count": 125,
   "metadata": {},
   "outputs": [
    {
     "data": {
      "text/plain": [
       "(0.7129716922897895, 0.0001872446591306698)"
      ]
     },
     "execution_count": 125,
     "metadata": {},
     "output_type": "execute_result"
    }
   ],
   "source": [
    "max(temp), min(temp)"
   ]
  },
  {
   "cell_type": "code",
   "execution_count": 31,
   "metadata": {},
   "outputs": [
    {
     "data": {
      "text/plain": [
       "(100, 1000)"
      ]
     },
     "execution_count": 31,
     "metadata": {},
     "output_type": "execute_result"
    }
   ],
   "source": [
    "x_sol.shape"
   ]
  }
 ],
 "metadata": {
  "kernelspec": {
   "display_name": "Python 3 (ipykernel)",
   "language": "python",
   "name": "python3"
  },
  "language_info": {
   "codemirror_mode": {
    "name": "ipython",
    "version": 3
   },
   "file_extension": ".py",
   "mimetype": "text/x-python",
   "name": "python",
   "nbconvert_exporter": "python",
   "pygments_lexer": "ipython3",
   "version": "3.8.8"
  }
 },
 "nbformat": 4,
 "nbformat_minor": 4
}
